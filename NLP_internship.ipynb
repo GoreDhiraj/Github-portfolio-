{
  "cells": [
    {
      "cell_type": "markdown",
      "metadata": {
        "id": "view-in-github",
        "colab_type": "text"
      },
      "source": [
        "<a href=\"https://colab.research.google.com/github/GoreDhiraj/Github-portfolio-/blob/main/NLP_internship.ipynb\" target=\"_parent\"><img src=\"https://colab.research.google.com/assets/colab-badge.svg\" alt=\"Open In Colab\"/></a>"
      ]
    },
    {
      "cell_type": "markdown",
      "metadata": {
        "id": "gTkCfiHP-Mqz"
      },
      "source": [
        "Name - Dhiraj Shrikant Gore\n",
        "\n",
        "Topic -Sentiment Analysis of comment/ feedback using nlp\n",
        "\n",
        "\n",
        "Org name -Tata consultancy services\n",
        "\n",
        "\n",
        "Institute name - B.K Birla college kalyan(w)\n"
      ]
    },
    {
      "cell_type": "markdown",
      "metadata": {
        "id": "t-UjtETn9rbR"
      },
      "source": [
        "REVIEWS SENTIMENTS ANALYSIS ! :-)"
      ]
    },
    {
      "cell_type": "markdown",
      "metadata": {
        "id": "aYjC1VO09h0U"
      },
      "source": [
        "Business Problem: ♾\n",
        "\n",
        "One of the most important problems in e-commerce is the correct calculation of points. given to aftermarket products. Solving this problem means providing more. Customer satisfaction for e-commerce site, product prominence for sellers and a seamless shopping experience for buyers. Another problem is correct ordering. The prominence of misleading comments among the comments made on the products financial loss and loss of customers. That's why amazon company wants to rank reviews, and when ordering these reviews, they want to rank them according to their sentiment (positive / negative). In solving these 2 basic problems, e-commerce site and sellers will increase their sales, customers hassle-free purchasing journey.\n"
      ]
    },
    {
      "cell_type": "code",
      "execution_count": null,
      "metadata": {
        "id": "TMVKCGwP-07G"
      },
      "outputs": [],
      "source": [
        "# Installing important libraries"
      ]
    },
    {
      "cell_type": "code",
      "execution_count": null,
      "metadata": {
        "colab": {
          "base_uri": "https://localhost:8080/"
        },
        "id": "6t3Au1Mx7dkM",
        "outputId": "26f3aa88-5391-44c3-b418-6e1297733395"
      },
      "outputs": [
        {
          "name": "stdout",
          "output_type": "stream",
          "text": [
            "Looking in indexes: https://pypi.org/simple, https://us-python.pkg.dev/colab-wheels/public/simple/\n",
            "\u001b[31mERROR: Could not find a version that satisfies the requirement SentimentIntensityAnalyzer (from versions: none)\u001b[0m\u001b[31m\n",
            "\u001b[0m\u001b[31mERROR: No matching distribution found for SentimentIntensityAnalyzer\u001b[0m\u001b[31m\n",
            "\u001b[0mLooking in indexes: https://pypi.org/simple, https://us-python.pkg.dev/colab-wheels/public/simple/\n",
            "Collecting chart_studio\n",
            "  Downloading chart_studio-1.1.0-py3-none-any.whl (64 kB)\n",
            "\u001b[2K     \u001b[90m━━━━━━━━━━━━━━━━━━━━━━━━━━━━━━━━━━━━━━━━\u001b[0m \u001b[32m64.4/64.4 KB\u001b[0m \u001b[31m7.5 MB/s\u001b[0m eta \u001b[36m0:00:00\u001b[0m\n",
            "\u001b[?25hRequirement already satisfied: requests in /usr/local/lib/python3.8/dist-packages (from chart_studio) (2.25.1)\n",
            "Requirement already satisfied: six in /usr/local/lib/python3.8/dist-packages (from chart_studio) (1.15.0)\n",
            "Requirement already satisfied: plotly in /usr/local/lib/python3.8/dist-packages (from chart_studio) (5.5.0)\n",
            "Collecting retrying>=1.3.3\n",
            "  Downloading retrying-1.3.4-py3-none-any.whl (11 kB)\n",
            "Requirement already satisfied: tenacity>=6.2.0 in /usr/local/lib/python3.8/dist-packages (from plotly->chart_studio) (8.1.0)\n",
            "Requirement already satisfied: urllib3<1.27,>=1.21.1 in /usr/local/lib/python3.8/dist-packages (from requests->chart_studio) (1.24.3)\n",
            "Requirement already satisfied: chardet<5,>=3.0.2 in /usr/local/lib/python3.8/dist-packages (from requests->chart_studio) (4.0.0)\n",
            "Requirement already satisfied: idna<3,>=2.5 in /usr/local/lib/python3.8/dist-packages (from requests->chart_studio) (2.10)\n",
            "Requirement already satisfied: certifi>=2017.4.17 in /usr/local/lib/python3.8/dist-packages (from requests->chart_studio) (2022.12.7)\n",
            "Installing collected packages: retrying, chart_studio\n",
            "Successfully installed chart_studio-1.1.0 retrying-1.3.4\n",
            "Looking in indexes: https://pypi.org/simple, https://us-python.pkg.dev/colab-wheels/public/simple/\n",
            "Requirement already satisfied: TextBlob in /usr/local/lib/python3.8/dist-packages (0.15.3)\n",
            "Requirement already satisfied: nltk>=3.1 in /usr/local/lib/python3.8/dist-packages (from TextBlob) (3.7)\n",
            "Requirement already satisfied: regex>=2021.8.3 in /usr/local/lib/python3.8/dist-packages (from nltk>=3.1->TextBlob) (2022.6.2)\n",
            "Requirement already satisfied: click in /usr/local/lib/python3.8/dist-packages (from nltk>=3.1->TextBlob) (7.1.2)\n",
            "Requirement already satisfied: joblib in /usr/local/lib/python3.8/dist-packages (from nltk>=3.1->TextBlob) (1.2.0)\n",
            "Requirement already satisfied: tqdm in /usr/local/lib/python3.8/dist-packages (from nltk>=3.1->TextBlob) (4.64.1)\n",
            "Looking in indexes: https://pypi.org/simple, https://us-python.pkg.dev/colab-wheels/public/simple/\n",
            "Requirement already satisfied: plotly in /usr/local/lib/python3.8/dist-packages (5.5.0)\n",
            "Requirement already satisfied: tenacity>=6.2.0 in /usr/local/lib/python3.8/dist-packages (from plotly) (8.1.0)\n",
            "Requirement already satisfied: six in /usr/local/lib/python3.8/dist-packages (from plotly) (1.15.0)\n",
            "Looking in indexes: https://pypi.org/simple, https://us-python.pkg.dev/colab-wheels/public/simple/\n",
            "Requirement already satisfied: WordCloud in /usr/local/lib/python3.8/dist-packages (1.8.2.2)\n",
            "Requirement already satisfied: numpy>=1.6.1 in /usr/local/lib/python3.8/dist-packages (from WordCloud) (1.21.6)\n",
            "Requirement already satisfied: pillow in /usr/local/lib/python3.8/dist-packages (from WordCloud) (7.1.2)\n",
            "Requirement already satisfied: matplotlib in /usr/local/lib/python3.8/dist-packages (from WordCloud) (3.2.2)\n",
            "Requirement already satisfied: pyparsing!=2.0.4,!=2.1.2,!=2.1.6,>=2.0.1 in /usr/local/lib/python3.8/dist-packages (from matplotlib->WordCloud) (3.0.9)\n",
            "Requirement already satisfied: kiwisolver>=1.0.1 in /usr/local/lib/python3.8/dist-packages (from matplotlib->WordCloud) (1.4.4)\n",
            "Requirement already satisfied: cycler>=0.10 in /usr/local/lib/python3.8/dist-packages (from matplotlib->WordCloud) (0.11.0)\n",
            "Requirement already satisfied: python-dateutil>=2.1 in /usr/local/lib/python3.8/dist-packages (from matplotlib->WordCloud) (2.8.2)\n",
            "Requirement already satisfied: six>=1.5 in /usr/local/lib/python3.8/dist-packages (from python-dateutil>=2.1->matplotlib->WordCloud) (1.15.0)\n",
            "Looking in indexes: https://pypi.org/simple, https://us-python.pkg.dev/colab-wheels/public/simple/\n",
            "Requirement already satisfied: cufflinks in /usr/local/lib/python3.8/dist-packages (0.17.3)\n",
            "Requirement already satisfied: pandas>=0.19.2 in /usr/local/lib/python3.8/dist-packages (from cufflinks) (1.3.5)\n",
            "Requirement already satisfied: plotly>=4.1.1 in /usr/local/lib/python3.8/dist-packages (from cufflinks) (5.5.0)\n",
            "Requirement already satisfied: setuptools>=34.4.1 in /usr/local/lib/python3.8/dist-packages (from cufflinks) (57.4.0)\n",
            "Requirement already satisfied: colorlover>=0.2.1 in /usr/local/lib/python3.8/dist-packages (from cufflinks) (0.3.0)\n",
            "Requirement already satisfied: ipywidgets>=7.0.0 in /usr/local/lib/python3.8/dist-packages (from cufflinks) (7.7.1)\n",
            "Requirement already satisfied: six>=1.9.0 in /usr/local/lib/python3.8/dist-packages (from cufflinks) (1.15.0)\n",
            "Requirement already satisfied: numpy>=1.9.2 in /usr/local/lib/python3.8/dist-packages (from cufflinks) (1.21.6)\n",
            "Requirement already satisfied: ipython>=5.3.0 in /usr/local/lib/python3.8/dist-packages (from cufflinks) (7.9.0)\n",
            "Requirement already satisfied: pygments in /usr/local/lib/python3.8/dist-packages (from ipython>=5.3.0->cufflinks) (2.6.1)\n",
            "Requirement already satisfied: pickleshare in /usr/local/lib/python3.8/dist-packages (from ipython>=5.3.0->cufflinks) (0.7.5)\n",
            "Requirement already satisfied: backcall in /usr/local/lib/python3.8/dist-packages (from ipython>=5.3.0->cufflinks) (0.2.0)\n",
            "Requirement already satisfied: decorator in /usr/local/lib/python3.8/dist-packages (from ipython>=5.3.0->cufflinks) (4.4.2)\n",
            "Collecting jedi>=0.10\n",
            "  Downloading jedi-0.18.2-py2.py3-none-any.whl (1.6 MB)\n",
            "\u001b[2K     \u001b[90m━━━━━━━━━━━━━━━━━━━━━━━━━━━━━━━━━━━━━━━━\u001b[0m \u001b[32m1.6/1.6 MB\u001b[0m \u001b[31m9.6 MB/s\u001b[0m eta \u001b[36m0:00:00\u001b[0m\n",
            "\u001b[?25hRequirement already satisfied: pexpect in /usr/local/lib/python3.8/dist-packages (from ipython>=5.3.0->cufflinks) (4.8.0)\n",
            "Requirement already satisfied: prompt-toolkit<2.1.0,>=2.0.0 in /usr/local/lib/python3.8/dist-packages (from ipython>=5.3.0->cufflinks) (2.0.10)\n",
            "Requirement already satisfied: traitlets>=4.2 in /usr/local/lib/python3.8/dist-packages (from ipython>=5.3.0->cufflinks) (5.7.1)\n",
            "Requirement already satisfied: jupyterlab-widgets>=1.0.0 in /usr/local/lib/python3.8/dist-packages (from ipywidgets>=7.0.0->cufflinks) (3.0.5)\n",
            "Requirement already satisfied: widgetsnbextension~=3.6.0 in /usr/local/lib/python3.8/dist-packages (from ipywidgets>=7.0.0->cufflinks) (3.6.1)\n",
            "Requirement already satisfied: ipykernel>=4.5.1 in /usr/local/lib/python3.8/dist-packages (from ipywidgets>=7.0.0->cufflinks) (5.3.4)\n",
            "Requirement already satisfied: ipython-genutils~=0.2.0 in /usr/local/lib/python3.8/dist-packages (from ipywidgets>=7.0.0->cufflinks) (0.2.0)\n",
            "Requirement already satisfied: pytz>=2017.3 in /usr/local/lib/python3.8/dist-packages (from pandas>=0.19.2->cufflinks) (2022.7)\n",
            "Requirement already satisfied: python-dateutil>=2.7.3 in /usr/local/lib/python3.8/dist-packages (from pandas>=0.19.2->cufflinks) (2.8.2)\n",
            "Requirement already satisfied: tenacity>=6.2.0 in /usr/local/lib/python3.8/dist-packages (from plotly>=4.1.1->cufflinks) (8.1.0)\n",
            "Requirement already satisfied: jupyter-client in /usr/local/lib/python3.8/dist-packages (from ipykernel>=4.5.1->ipywidgets>=7.0.0->cufflinks) (6.1.12)\n",
            "Requirement already satisfied: tornado>=4.2 in /usr/local/lib/python3.8/dist-packages (from ipykernel>=4.5.1->ipywidgets>=7.0.0->cufflinks) (6.0.4)\n",
            "Requirement already satisfied: parso<0.9.0,>=0.8.0 in /usr/local/lib/python3.8/dist-packages (from jedi>=0.10->ipython>=5.3.0->cufflinks) (0.8.3)\n",
            "Requirement already satisfied: wcwidth in /usr/local/lib/python3.8/dist-packages (from prompt-toolkit<2.1.0,>=2.0.0->ipython>=5.3.0->cufflinks) (0.2.5)\n",
            "Requirement already satisfied: notebook>=4.4.1 in /usr/local/lib/python3.8/dist-packages (from widgetsnbextension~=3.6.0->ipywidgets>=7.0.0->cufflinks) (5.7.16)\n",
            "Requirement already satisfied: ptyprocess>=0.5 in /usr/local/lib/python3.8/dist-packages (from pexpect->ipython>=5.3.0->cufflinks) (0.7.0)\n",
            "Requirement already satisfied: nbconvert<6.0 in /usr/local/lib/python3.8/dist-packages (from notebook>=4.4.1->widgetsnbextension~=3.6.0->ipywidgets>=7.0.0->cufflinks) (5.6.1)\n",
            "Requirement already satisfied: jupyter-core>=4.4.0 in /usr/local/lib/python3.8/dist-packages (from notebook>=4.4.1->widgetsnbextension~=3.6.0->ipywidgets>=7.0.0->cufflinks) (5.1.1)\n",
            "Requirement already satisfied: Send2Trash in /usr/local/lib/python3.8/dist-packages (from notebook>=4.4.1->widgetsnbextension~=3.6.0->ipywidgets>=7.0.0->cufflinks) (1.8.0)\n",
            "Requirement already satisfied: terminado>=0.8.1 in /usr/local/lib/python3.8/dist-packages (from notebook>=4.4.1->widgetsnbextension~=3.6.0->ipywidgets>=7.0.0->cufflinks) (0.13.3)\n",
            "Requirement already satisfied: prometheus-client in /usr/local/lib/python3.8/dist-packages (from notebook>=4.4.1->widgetsnbextension~=3.6.0->ipywidgets>=7.0.0->cufflinks) (0.15.0)\n",
            "Requirement already satisfied: pyzmq>=17 in /usr/local/lib/python3.8/dist-packages (from notebook>=4.4.1->widgetsnbextension~=3.6.0->ipywidgets>=7.0.0->cufflinks) (23.2.1)\n",
            "Requirement already satisfied: jinja2<=3.0.0 in /usr/local/lib/python3.8/dist-packages (from notebook>=4.4.1->widgetsnbextension~=3.6.0->ipywidgets>=7.0.0->cufflinks) (2.11.3)\n",
            "Requirement already satisfied: nbformat in /usr/local/lib/python3.8/dist-packages (from notebook>=4.4.1->widgetsnbextension~=3.6.0->ipywidgets>=7.0.0->cufflinks) (5.7.1)\n",
            "Requirement already satisfied: MarkupSafe>=0.23 in /usr/local/lib/python3.8/dist-packages (from jinja2<=3.0.0->notebook>=4.4.1->widgetsnbextension~=3.6.0->ipywidgets>=7.0.0->cufflinks) (2.0.1)\n",
            "Requirement already satisfied: platformdirs>=2.5 in /usr/local/lib/python3.8/dist-packages (from jupyter-core>=4.4.0->notebook>=4.4.1->widgetsnbextension~=3.6.0->ipywidgets>=7.0.0->cufflinks) (2.6.0)\n",
            "Requirement already satisfied: entrypoints>=0.2.2 in /usr/local/lib/python3.8/dist-packages (from nbconvert<6.0->notebook>=4.4.1->widgetsnbextension~=3.6.0->ipywidgets>=7.0.0->cufflinks) (0.4)\n",
            "Requirement already satisfied: mistune<2,>=0.8.1 in /usr/local/lib/python3.8/dist-packages (from nbconvert<6.0->notebook>=4.4.1->widgetsnbextension~=3.6.0->ipywidgets>=7.0.0->cufflinks) (0.8.4)\n",
            "Requirement already satisfied: testpath in /usr/local/lib/python3.8/dist-packages (from nbconvert<6.0->notebook>=4.4.1->widgetsnbextension~=3.6.0->ipywidgets>=7.0.0->cufflinks) (0.6.0)\n",
            "Requirement already satisfied: defusedxml in /usr/local/lib/python3.8/dist-packages (from nbconvert<6.0->notebook>=4.4.1->widgetsnbextension~=3.6.0->ipywidgets>=7.0.0->cufflinks) (0.7.1)\n",
            "Requirement already satisfied: bleach in /usr/local/lib/python3.8/dist-packages (from nbconvert<6.0->notebook>=4.4.1->widgetsnbextension~=3.6.0->ipywidgets>=7.0.0->cufflinks) (5.0.1)\n",
            "Requirement already satisfied: pandocfilters>=1.4.1 in /usr/local/lib/python3.8/dist-packages (from nbconvert<6.0->notebook>=4.4.1->widgetsnbextension~=3.6.0->ipywidgets>=7.0.0->cufflinks) (1.5.0)\n",
            "Requirement already satisfied: fastjsonschema in /usr/local/lib/python3.8/dist-packages (from nbformat->notebook>=4.4.1->widgetsnbextension~=3.6.0->ipywidgets>=7.0.0->cufflinks) (2.16.2)\n",
            "Requirement already satisfied: jsonschema>=2.6 in /usr/local/lib/python3.8/dist-packages (from nbformat->notebook>=4.4.1->widgetsnbextension~=3.6.0->ipywidgets>=7.0.0->cufflinks) (4.3.3)\n",
            "Requirement already satisfied: pyrsistent!=0.17.0,!=0.17.1,!=0.17.2,>=0.14.0 in /usr/local/lib/python3.8/dist-packages (from jsonschema>=2.6->nbformat->notebook>=4.4.1->widgetsnbextension~=3.6.0->ipywidgets>=7.0.0->cufflinks) (0.19.2)\n",
            "Requirement already satisfied: importlib-resources>=1.4.0 in /usr/local/lib/python3.8/dist-packages (from jsonschema>=2.6->nbformat->notebook>=4.4.1->widgetsnbextension~=3.6.0->ipywidgets>=7.0.0->cufflinks) (5.10.1)\n",
            "Requirement already satisfied: attrs>=17.4.0 in /usr/local/lib/python3.8/dist-packages (from jsonschema>=2.6->nbformat->notebook>=4.4.1->widgetsnbextension~=3.6.0->ipywidgets>=7.0.0->cufflinks) (22.2.0)\n",
            "Requirement already satisfied: webencodings in /usr/local/lib/python3.8/dist-packages (from bleach->nbconvert<6.0->notebook>=4.4.1->widgetsnbextension~=3.6.0->ipywidgets>=7.0.0->cufflinks) (0.5.1)\n",
            "Requirement already satisfied: zipp>=3.1.0 in /usr/local/lib/python3.8/dist-packages (from importlib-resources>=1.4.0->jsonschema>=2.6->nbformat->notebook>=4.4.1->widgetsnbextension~=3.6.0->ipywidgets>=7.0.0->cufflinks) (3.11.0)\n",
            "Installing collected packages: jedi\n",
            "Successfully installed jedi-0.18.2\n"
          ]
        }
      ],
      "source": [
        "!pip install SentimentIntensityAnalyzer\n",
        "!pip install chart_studio\n",
        "!pip install TextBlob\n",
        "!pip install plotly\n",
        "!pip install WordCloud\n",
        "!pip install cufflinks\n"
      ]
    },
    {
      "cell_type": "code",
      "execution_count": null,
      "metadata": {
        "id": "NxnaK-mp-7n4"
      },
      "outputs": [],
      "source": [
        "\n",
        "from warnings import filterwarnings\n",
        "import matplotlib.pyplot as plt\n",
        "import numpy as np\n",
        "import pandas as pd\n",
        "from PIL import Image\n",
        "from nltk.corpus import stopwords\n",
        "from nltk.sentiment import SentimentIntensityAnalyzer\n",
        "from sklearn.ensemble import RandomForestClassifier\n",
        "from sklearn.linear_model import LogisticRegression\n",
        "from sklearn.model_selection import cross_val_score, GridSearchCV, cross_validate\n",
        "from sklearn.preprocessing import LabelEncoder\n",
        "from textblob import Word, TextBlob\n",
        "from wordcloud import WordCloud\n",
        "\n",
        "\n",
        "filterwarnings('ignore')\n",
        "pd.set_option('display.max_columns', None)\n",
        "pd.set_option('display.width', 200)\n",
        "pd.set_option('display.float_format', lambda x: '%.2f' % x)"
      ]
    },
    {
      "cell_type": "markdown",
      "metadata": {
        "id": "Ir6zkBlU_IZ9"
      },
      "source": [
        "Reading and understanding the data"
      ]
    },
    {
      "cell_type": "code",
      "execution_count": null,
      "metadata": {
        "colab": {
          "base_uri": "https://localhost:8080/",
          "height": 565
        },
        "id": "sBvJ0yDv_Lzw",
        "outputId": "93e9ee21-d0a8-42ee-92c5-2fa24c0e931e"
      },
      "outputs": [
        {
          "data": {
            "text/html": [
              "\n",
              "  <div id=\"df-a0f8bb7b-3471-4bfa-bc58-df64dc3c21ab\">\n",
              "    <div class=\"colab-df-container\">\n",
              "      <div>\n",
              "<style scoped>\n",
              "    .dataframe tbody tr th:only-of-type {\n",
              "        vertical-align: middle;\n",
              "    }\n",
              "\n",
              "    .dataframe tbody tr th {\n",
              "        vertical-align: top;\n",
              "    }\n",
              "\n",
              "    .dataframe thead th {\n",
              "        text-align: right;\n",
              "    }\n",
              "</style>\n",
              "<table border=\"1\" class=\"dataframe\">\n",
              "  <thead>\n",
              "    <tr style=\"text-align: right;\">\n",
              "      <th></th>\n",
              "      <th>reviewerID</th>\n",
              "      <th>asin</th>\n",
              "      <th>reviewerName</th>\n",
              "      <th>helpful</th>\n",
              "      <th>reviewText</th>\n",
              "      <th>overall</th>\n",
              "      <th>summary</th>\n",
              "      <th>unixReviewTime</th>\n",
              "      <th>reviewTime</th>\n",
              "      <th>day_diff</th>\n",
              "      <th>helpful_yes</th>\n",
              "      <th>total_vote</th>\n",
              "    </tr>\n",
              "  </thead>\n",
              "  <tbody>\n",
              "    <tr>\n",
              "      <th>0</th>\n",
              "      <td>A3SBTW3WS4IQSN</td>\n",
              "      <td>B007WTAJTO</td>\n",
              "      <td>NaN</td>\n",
              "      <td>[0, 0]</td>\n",
              "      <td>No issues.</td>\n",
              "      <td>4.00</td>\n",
              "      <td>Four Stars</td>\n",
              "      <td>1406073600</td>\n",
              "      <td>2014-07-23</td>\n",
              "      <td>138</td>\n",
              "      <td>0</td>\n",
              "      <td>0</td>\n",
              "    </tr>\n",
              "    <tr>\n",
              "      <th>1</th>\n",
              "      <td>A18K1ODH1I2MVB</td>\n",
              "      <td>B007WTAJTO</td>\n",
              "      <td>0mie</td>\n",
              "      <td>[0, 0]</td>\n",
              "      <td>Purchased this for my device, it worked as adv...</td>\n",
              "      <td>5.00</td>\n",
              "      <td>MOAR SPACE!!!</td>\n",
              "      <td>1382659200</td>\n",
              "      <td>2013-10-25</td>\n",
              "      <td>409</td>\n",
              "      <td>0</td>\n",
              "      <td>0</td>\n",
              "    </tr>\n",
              "    <tr>\n",
              "      <th>2</th>\n",
              "      <td>A2FII3I2MBMUIA</td>\n",
              "      <td>B007WTAJTO</td>\n",
              "      <td>1K3</td>\n",
              "      <td>[0, 0]</td>\n",
              "      <td>it works as expected. I should have sprung for...</td>\n",
              "      <td>4.00</td>\n",
              "      <td>nothing to really say....</td>\n",
              "      <td>1356220800</td>\n",
              "      <td>2012-12-23</td>\n",
              "      <td>715</td>\n",
              "      <td>0</td>\n",
              "      <td>0</td>\n",
              "    </tr>\n",
              "    <tr>\n",
              "      <th>3</th>\n",
              "      <td>A3H99DFEG68SR</td>\n",
              "      <td>B007WTAJTO</td>\n",
              "      <td>1m2</td>\n",
              "      <td>[0, 0]</td>\n",
              "      <td>This think has worked out great.Had a diff. br...</td>\n",
              "      <td>5.00</td>\n",
              "      <td>Great buy at this price!!!  *** UPDATE</td>\n",
              "      <td>1384992000</td>\n",
              "      <td>2013-11-21</td>\n",
              "      <td>382</td>\n",
              "      <td>0</td>\n",
              "      <td>0</td>\n",
              "    </tr>\n",
              "    <tr>\n",
              "      <th>4</th>\n",
              "      <td>A375ZM4U047O79</td>\n",
              "      <td>B007WTAJTO</td>\n",
              "      <td>2&amp;amp;1/2Men</td>\n",
              "      <td>[0, 0]</td>\n",
              "      <td>Bought it with Retail Packaging, arrived legit...</td>\n",
              "      <td>5.00</td>\n",
              "      <td>best deal around</td>\n",
              "      <td>1373673600</td>\n",
              "      <td>2013-07-13</td>\n",
              "      <td>513</td>\n",
              "      <td>0</td>\n",
              "      <td>0</td>\n",
              "    </tr>\n",
              "  </tbody>\n",
              "</table>\n",
              "</div>\n",
              "      <button class=\"colab-df-convert\" onclick=\"convertToInteractive('df-a0f8bb7b-3471-4bfa-bc58-df64dc3c21ab')\"\n",
              "              title=\"Convert this dataframe to an interactive table.\"\n",
              "              style=\"display:none;\">\n",
              "        \n",
              "  <svg xmlns=\"http://www.w3.org/2000/svg\" height=\"24px\"viewBox=\"0 0 24 24\"\n",
              "       width=\"24px\">\n",
              "    <path d=\"M0 0h24v24H0V0z\" fill=\"none\"/>\n",
              "    <path d=\"M18.56 5.44l.94 2.06.94-2.06 2.06-.94-2.06-.94-.94-2.06-.94 2.06-2.06.94zm-11 1L8.5 8.5l.94-2.06 2.06-.94-2.06-.94L8.5 2.5l-.94 2.06-2.06.94zm10 10l.94 2.06.94-2.06 2.06-.94-2.06-.94-.94-2.06-.94 2.06-2.06.94z\"/><path d=\"M17.41 7.96l-1.37-1.37c-.4-.4-.92-.59-1.43-.59-.52 0-1.04.2-1.43.59L10.3 9.45l-7.72 7.72c-.78.78-.78 2.05 0 2.83L4 21.41c.39.39.9.59 1.41.59.51 0 1.02-.2 1.41-.59l7.78-7.78 2.81-2.81c.8-.78.8-2.07 0-2.86zM5.41 20L4 18.59l7.72-7.72 1.47 1.35L5.41 20z\"/>\n",
              "  </svg>\n",
              "      </button>\n",
              "      \n",
              "  <style>\n",
              "    .colab-df-container {\n",
              "      display:flex;\n",
              "      flex-wrap:wrap;\n",
              "      gap: 12px;\n",
              "    }\n",
              "\n",
              "    .colab-df-convert {\n",
              "      background-color: #E8F0FE;\n",
              "      border: none;\n",
              "      border-radius: 50%;\n",
              "      cursor: pointer;\n",
              "      display: none;\n",
              "      fill: #1967D2;\n",
              "      height: 32px;\n",
              "      padding: 0 0 0 0;\n",
              "      width: 32px;\n",
              "    }\n",
              "\n",
              "    .colab-df-convert:hover {\n",
              "      background-color: #E2EBFA;\n",
              "      box-shadow: 0px 1px 2px rgba(60, 64, 67, 0.3), 0px 1px 3px 1px rgba(60, 64, 67, 0.15);\n",
              "      fill: #174EA6;\n",
              "    }\n",
              "\n",
              "    [theme=dark] .colab-df-convert {\n",
              "      background-color: #3B4455;\n",
              "      fill: #D2E3FC;\n",
              "    }\n",
              "\n",
              "    [theme=dark] .colab-df-convert:hover {\n",
              "      background-color: #434B5C;\n",
              "      box-shadow: 0px 1px 3px 1px rgba(0, 0, 0, 0.15);\n",
              "      filter: drop-shadow(0px 1px 2px rgba(0, 0, 0, 0.3));\n",
              "      fill: #FFFFFF;\n",
              "    }\n",
              "  </style>\n",
              "\n",
              "      <script>\n",
              "        const buttonEl =\n",
              "          document.querySelector('#df-a0f8bb7b-3471-4bfa-bc58-df64dc3c21ab button.colab-df-convert');\n",
              "        buttonEl.style.display =\n",
              "          google.colab.kernel.accessAllowed ? 'block' : 'none';\n",
              "\n",
              "        async function convertToInteractive(key) {\n",
              "          const element = document.querySelector('#df-a0f8bb7b-3471-4bfa-bc58-df64dc3c21ab');\n",
              "          const dataTable =\n",
              "            await google.colab.kernel.invokeFunction('convertToInteractive',\n",
              "                                                     [key], {});\n",
              "          if (!dataTable) return;\n",
              "\n",
              "          const docLinkHtml = 'Like what you see? Visit the ' +\n",
              "            '<a target=\"_blank\" href=https://colab.research.google.com/notebooks/data_table.ipynb>data table notebook</a>'\n",
              "            + ' to learn more about interactive tables.';\n",
              "          element.innerHTML = '';\n",
              "          dataTable['output_type'] = 'display_data';\n",
              "          await google.colab.output.renderOutput(dataTable, element);\n",
              "          const docLink = document.createElement('div');\n",
              "          docLink.innerHTML = docLinkHtml;\n",
              "          element.appendChild(docLink);\n",
              "        }\n",
              "      </script>\n",
              "    </div>\n",
              "  </div>\n",
              "  "
            ],
            "text/plain": [
              "       reviewerID        asin  reviewerName helpful                                         reviewText  overall                                 summary  unixReviewTime  reviewTime  day_diff  \\\n",
              "0  A3SBTW3WS4IQSN  B007WTAJTO           NaN  [0, 0]                                         No issues.     4.00                              Four Stars      1406073600  2014-07-23       138   \n",
              "1  A18K1ODH1I2MVB  B007WTAJTO          0mie  [0, 0]  Purchased this for my device, it worked as adv...     5.00                           MOAR SPACE!!!      1382659200  2013-10-25       409   \n",
              "2  A2FII3I2MBMUIA  B007WTAJTO           1K3  [0, 0]  it works as expected. I should have sprung for...     4.00               nothing to really say....      1356220800  2012-12-23       715   \n",
              "3   A3H99DFEG68SR  B007WTAJTO           1m2  [0, 0]  This think has worked out great.Had a diff. br...     5.00  Great buy at this price!!!  *** UPDATE      1384992000  2013-11-21       382   \n",
              "4  A375ZM4U047O79  B007WTAJTO  2&amp;1/2Men  [0, 0]  Bought it with Retail Packaging, arrived legit...     5.00                        best deal around      1373673600  2013-07-13       513   \n",
              "\n",
              "   helpful_yes  total_vote  \n",
              "0            0           0  \n",
              "1            0           0  \n",
              "2            0           0  \n",
              "3            0           0  \n",
              "4            0           0  "
            ]
          },
          "execution_count": 4,
          "metadata": {},
          "output_type": "execute_result"
        }
      ],
      "source": [
        "df=pd.read_csv(\"amazon_reviews.csv\")\n",
        "df.head()"
      ]
    },
    {
      "cell_type": "code",
      "execution_count": null,
      "metadata": {
        "colab": {
          "base_uri": "https://localhost:8080/"
        },
        "id": "GbtyzEef_iKH",
        "outputId": "1891d7ff-d8df-4db2-8b9d-801b00e31c46"
      },
      "outputs": [
        {
          "name": "stdout",
          "output_type": "stream",
          "text": [
            "<class 'pandas.core.frame.DataFrame'>\n",
            "RangeIndex: 4915 entries, 0 to 4914\n",
            "Data columns (total 12 columns):\n",
            " #   Column          Non-Null Count  Dtype  \n",
            "---  ------          --------------  -----  \n",
            " 0   reviewerID      4915 non-null   object \n",
            " 1   asin            4915 non-null   object \n",
            " 2   reviewerName    4914 non-null   object \n",
            " 3   helpful         4915 non-null   object \n",
            " 4   reviewText      4914 non-null   object \n",
            " 5   overall         4915 non-null   float64\n",
            " 6   summary         4915 non-null   object \n",
            " 7   unixReviewTime  4915 non-null   int64  \n",
            " 8   reviewTime      4915 non-null   object \n",
            " 9   day_diff        4915 non-null   int64  \n",
            " 10  helpful_yes     4915 non-null   int64  \n",
            " 11  total_vote      4915 non-null   int64  \n",
            "dtypes: float64(1), int64(4), object(7)\n",
            "memory usage: 460.9+ KB\n"
          ]
        }
      ],
      "source": [
        "df.info()\n"
      ]
    },
    {
      "cell_type": "markdown",
      "metadata": {
        "id": "wLSBLl1Q_xFO"
      },
      "source": [
        "1. Text Preprocessing"
      ]
    },
    {
      "cell_type": "code",
      "execution_count": null,
      "metadata": {
        "id": "XwbIBnIK_xro"
      },
      "outputs": [],
      "source": [
        "# Normalizing Case Folding\n",
        "df['reviewText'] = df['reviewText'].str.lower()\n",
        "\n",
        "# Punctuations\n",
        "df['reviewText'] = df['reviewText'].str.replace('[^\\w\\s]', '')\n",
        "\n",
        "# Numbers\n",
        "df['reviewText'] = df['reviewText'].str.replace('\\d', '')"
      ]
    },
    {
      "cell_type": "code",
      "execution_count": null,
      "metadata": {
        "colab": {
          "base_uri": "https://localhost:8080/"
        },
        "id": "WE5BFmvl_3DV",
        "outputId": "52e72e81-215d-40c9-9eea-1b2c41f5ed7e"
      },
      "outputs": [
        {
          "name": "stderr",
          "output_type": "stream",
          "text": [
            "[nltk_data] Downloading package stopwords to /root/nltk_data...\n",
            "[nltk_data]   Unzipping corpora/stopwords.zip.\n"
          ]
        }
      ],
      "source": [
        "import nltk\n",
        "nltk.download('stopwords')\n",
        "sw = stopwords.words('english')\n",
        "df['reviewText'] = df['reviewText'].apply(lambda x: \" \".join(x for x in str(x).split() if x not in sw))"
      ]
    },
    {
      "cell_type": "code",
      "execution_count": null,
      "metadata": {
        "id": "Yx0OSgqyAiNa"
      },
      "outputs": [],
      "source": [
        "# Rarewords\n",
        "\n",
        "drops = pd.Series(' '.join(df['reviewText']).split()).value_counts()[-1000:]\n",
        "df['reviewText'] = df['reviewText'].apply(lambda x: \" \".join(x for x in x.split() if x not in drops))"
      ]
    },
    {
      "cell_type": "code",
      "execution_count": null,
      "metadata": {
        "colab": {
          "base_uri": "https://localhost:8080/"
        },
        "id": "BCij0OUKAnR8",
        "outputId": "db0d67b1-882e-490c-cf60-e462a5070201"
      },
      "outputs": [
        {
          "name": "stderr",
          "output_type": "stream",
          "text": [
            "[nltk_data] Downloading package punkt to /root/nltk_data...\n",
            "[nltk_data]   Unzipping tokenizers/punkt.zip.\n"
          ]
        },
        {
          "data": {
            "text/plain": [
              "0                                             [issues]\n",
              "1    [purchased, device, worked, advertised, never,...\n",
              "2    [works, expected, sprung, higher, capacity, th...\n",
              "3    [think, worked, greathad, diff, bran, gb, card...\n",
              "4    [bought, retail, packaging, arrived, legit, or...\n",
              "Name: reviewText, dtype: object"
            ]
          },
          "execution_count": 9,
          "metadata": {},
          "output_type": "execute_result"
        }
      ],
      "source": [
        "# Tokenization\n",
        "# nltk.download(\"punkt\")\n",
        "import nltk\n",
        "nltk.download('punkt')\n",
        "df[\"reviewText\"].apply(lambda x: TextBlob(x).words).head()"
      ]
    },
    {
      "cell_type": "code",
      "execution_count": null,
      "metadata": {
        "colab": {
          "base_uri": "https://localhost:8080/"
        },
        "id": "_JayguSKBDjP",
        "outputId": "6acaec07-1c80-4e00-b26e-5f27191d59ba"
      },
      "outputs": [
        {
          "name": "stderr",
          "output_type": "stream",
          "text": [
            "[nltk_data] Downloading package wordnet to /root/nltk_data...\n"
          ]
        },
        {
          "data": {
            "text/plain": [
              "True"
            ]
          },
          "execution_count": 10,
          "metadata": {},
          "output_type": "execute_result"
        }
      ],
      "source": [
        "import nltk\n",
        "nltk.download('wordnet')"
      ]
    },
    {
      "cell_type": "code",
      "execution_count": null,
      "metadata": {
        "colab": {
          "base_uri": "https://localhost:8080/"
        },
        "id": "MK9HxwlHBfco",
        "outputId": "8b4084fd-a98e-4088-ef91-0e18114a66ce"
      },
      "outputs": [
        {
          "name": "stderr",
          "output_type": "stream",
          "text": [
            "[nltk_data] Downloading package omw-1.4 to /root/nltk_data...\n"
          ]
        },
        {
          "data": {
            "text/plain": [
              "True"
            ]
          },
          "execution_count": 11,
          "metadata": {},
          "output_type": "execute_result"
        }
      ],
      "source": [
        "import nltk\n",
        "nltk.download('omw-1.4')"
      ]
    },
    {
      "cell_type": "code",
      "execution_count": null,
      "metadata": {
        "colab": {
          "base_uri": "https://localhost:8080/"
        },
        "id": "5Jp8htahBHwV",
        "outputId": "4c78052e-8d8f-4c32-ebbb-a7c83258d891"
      },
      "outputs": [
        {
          "data": {
            "text/plain": [
              "0                                                issue\n",
              "1    purchased device worked advertised never much ...\n",
              "2    work expected sprung higher capacity think mad...\n",
              "3    think worked greathad diff bran gb card went s...\n",
              "4    bought retail packaging arrived legit orange e...\n",
              "5    mini storage doesnt anything else supposed pur...\n",
              "6    phone never skip beat file transfer speedy cor...\n",
              "7    hard believe affordable digital become gb devi...\n",
              "8    work htc rezound running short space gb sandis...\n",
              "9    galaxy super fast card totally happy happy sti...\n",
              "Name: reviewText, dtype: object"
            ]
          },
          "execution_count": 12,
          "metadata": {},
          "output_type": "execute_result"
        }
      ],
      "source": [
        "# Lemmatization\n",
        "#It is the process of breaking down words into their roots.\n",
        "# nltk.download('wordnet')\n",
        "df['reviewText'] = df['reviewText'].apply(lambda x: \" \".join([Word(word).lemmatize()\n",
        "for word in x.split()]))\n",
        "\n",
        "df['reviewText'].head(10)"
      ]
    },
    {
      "cell_type": "code",
      "execution_count": null,
      "metadata": {
        "id": "zWf0SrrJLI4e"
      },
      "outputs": [],
      "source": []
    },
    {
      "cell_type": "markdown",
      "metadata": {
        "id": "1jbR-xEGBwWv"
      },
      "source": [
        "2. Text Visualization"
      ]
    },
    {
      "cell_type": "code",
      "execution_count": null,
      "metadata": {
        "colab": {
          "base_uri": "https://localhost:8080/",
          "height": 206
        },
        "id": "j8IX2kdhBjhT",
        "outputId": "4b26dd79-2aaf-442c-eb86-980a08bbdd82"
      },
      "outputs": [
        {
          "data": {
            "text/html": [
              "\n",
              "  <div id=\"df-8290669a-a8ef-4f1c-b981-a62c6bacdf6d\">\n",
              "    <div class=\"colab-df-container\">\n",
              "      <div>\n",
              "<style scoped>\n",
              "    .dataframe tbody tr th:only-of-type {\n",
              "        vertical-align: middle;\n",
              "    }\n",
              "\n",
              "    .dataframe tbody tr th {\n",
              "        vertical-align: top;\n",
              "    }\n",
              "\n",
              "    .dataframe thead th {\n",
              "        text-align: right;\n",
              "    }\n",
              "</style>\n",
              "<table border=\"1\" class=\"dataframe\">\n",
              "  <thead>\n",
              "    <tr style=\"text-align: right;\">\n",
              "      <th></th>\n",
              "      <th>words</th>\n",
              "      <th>tf</th>\n",
              "    </tr>\n",
              "  </thead>\n",
              "  <tbody>\n",
              "    <tr>\n",
              "      <th>0</th>\n",
              "      <td>issue</td>\n",
              "      <td>609.00</td>\n",
              "    </tr>\n",
              "    <tr>\n",
              "      <th>1</th>\n",
              "      <td>purchased</td>\n",
              "      <td>344.00</td>\n",
              "    </tr>\n",
              "    <tr>\n",
              "      <th>2</th>\n",
              "      <td>device</td>\n",
              "      <td>584.00</td>\n",
              "    </tr>\n",
              "    <tr>\n",
              "      <th>3</th>\n",
              "      <td>worked</td>\n",
              "      <td>460.00</td>\n",
              "    </tr>\n",
              "    <tr>\n",
              "      <th>4</th>\n",
              "      <td>advertised</td>\n",
              "      <td>111.00</td>\n",
              "    </tr>\n",
              "  </tbody>\n",
              "</table>\n",
              "</div>\n",
              "      <button class=\"colab-df-convert\" onclick=\"convertToInteractive('df-8290669a-a8ef-4f1c-b981-a62c6bacdf6d')\"\n",
              "              title=\"Convert this dataframe to an interactive table.\"\n",
              "              style=\"display:none;\">\n",
              "        \n",
              "  <svg xmlns=\"http://www.w3.org/2000/svg\" height=\"24px\"viewBox=\"0 0 24 24\"\n",
              "       width=\"24px\">\n",
              "    <path d=\"M0 0h24v24H0V0z\" fill=\"none\"/>\n",
              "    <path d=\"M18.56 5.44l.94 2.06.94-2.06 2.06-.94-2.06-.94-.94-2.06-.94 2.06-2.06.94zm-11 1L8.5 8.5l.94-2.06 2.06-.94-2.06-.94L8.5 2.5l-.94 2.06-2.06.94zm10 10l.94 2.06.94-2.06 2.06-.94-2.06-.94-.94-2.06-.94 2.06-2.06.94z\"/><path d=\"M17.41 7.96l-1.37-1.37c-.4-.4-.92-.59-1.43-.59-.52 0-1.04.2-1.43.59L10.3 9.45l-7.72 7.72c-.78.78-.78 2.05 0 2.83L4 21.41c.39.39.9.59 1.41.59.51 0 1.02-.2 1.41-.59l7.78-7.78 2.81-2.81c.8-.78.8-2.07 0-2.86zM5.41 20L4 18.59l7.72-7.72 1.47 1.35L5.41 20z\"/>\n",
              "  </svg>\n",
              "      </button>\n",
              "      \n",
              "  <style>\n",
              "    .colab-df-container {\n",
              "      display:flex;\n",
              "      flex-wrap:wrap;\n",
              "      gap: 12px;\n",
              "    }\n",
              "\n",
              "    .colab-df-convert {\n",
              "      background-color: #E8F0FE;\n",
              "      border: none;\n",
              "      border-radius: 50%;\n",
              "      cursor: pointer;\n",
              "      display: none;\n",
              "      fill: #1967D2;\n",
              "      height: 32px;\n",
              "      padding: 0 0 0 0;\n",
              "      width: 32px;\n",
              "    }\n",
              "\n",
              "    .colab-df-convert:hover {\n",
              "      background-color: #E2EBFA;\n",
              "      box-shadow: 0px 1px 2px rgba(60, 64, 67, 0.3), 0px 1px 3px 1px rgba(60, 64, 67, 0.15);\n",
              "      fill: #174EA6;\n",
              "    }\n",
              "\n",
              "    [theme=dark] .colab-df-convert {\n",
              "      background-color: #3B4455;\n",
              "      fill: #D2E3FC;\n",
              "    }\n",
              "\n",
              "    [theme=dark] .colab-df-convert:hover {\n",
              "      background-color: #434B5C;\n",
              "      box-shadow: 0px 1px 3px 1px rgba(0, 0, 0, 0.15);\n",
              "      filter: drop-shadow(0px 1px 2px rgba(0, 0, 0, 0.3));\n",
              "      fill: #FFFFFF;\n",
              "    }\n",
              "  </style>\n",
              "\n",
              "      <script>\n",
              "        const buttonEl =\n",
              "          document.querySelector('#df-8290669a-a8ef-4f1c-b981-a62c6bacdf6d button.colab-df-convert');\n",
              "        buttonEl.style.display =\n",
              "          google.colab.kernel.accessAllowed ? 'block' : 'none';\n",
              "\n",
              "        async function convertToInteractive(key) {\n",
              "          const element = document.querySelector('#df-8290669a-a8ef-4f1c-b981-a62c6bacdf6d');\n",
              "          const dataTable =\n",
              "            await google.colab.kernel.invokeFunction('convertToInteractive',\n",
              "                                                     [key], {});\n",
              "          if (!dataTable) return;\n",
              "\n",
              "          const docLinkHtml = 'Like what you see? Visit the ' +\n",
              "            '<a target=\"_blank\" href=https://colab.research.google.com/notebooks/data_table.ipynb>data table notebook</a>'\n",
              "            + ' to learn more about interactive tables.';\n",
              "          element.innerHTML = '';\n",
              "          dataTable['output_type'] = 'display_data';\n",
              "          await google.colab.output.renderOutput(dataTable, element);\n",
              "          const docLink = document.createElement('div');\n",
              "          docLink.innerHTML = docLinkHtml;\n",
              "          element.appendChild(docLink);\n",
              "        }\n",
              "      </script>\n",
              "    </div>\n",
              "  </div>\n",
              "  "
            ],
            "text/plain": [
              "        words     tf\n",
              "0       issue 609.00\n",
              "1   purchased 344.00\n",
              "2      device 584.00\n",
              "3      worked 460.00\n",
              "4  advertised 111.00"
            ]
          },
          "execution_count": 13,
          "metadata": {},
          "output_type": "execute_result"
        }
      ],
      "source": [
        "#Calculation of Term Frequencies\n",
        "\n",
        "tf = df[\"reviewText\"].apply(lambda x: pd.value_counts(x.split(\" \"))).sum(axis=0).reset_index()\n",
        "\n",
        "tf.columns = [\"words\", \"tf\"]\n",
        "tf.head()"
      ]
    },
    {
      "cell_type": "code",
      "execution_count": null,
      "metadata": {
        "colab": {
          "base_uri": "https://localhost:8080/"
        },
        "id": "el0tzLA6B5nK",
        "outputId": "339e7868-0499-4ef9-c1d0-74f2d0b5a802"
      },
      "outputs": [
        {
          "data": {
            "text/plain": [
              "(8073, 2)"
            ]
          },
          "execution_count": 14,
          "metadata": {},
          "output_type": "execute_result"
        }
      ],
      "source": [
        "tf.shape\n"
      ]
    },
    {
      "cell_type": "code",
      "execution_count": null,
      "metadata": {
        "colab": {
          "base_uri": "https://localhost:8080/"
        },
        "id": "Tv_ZMYi0CDXJ",
        "outputId": "6d244756-b913-4a54-a4e1-3b20240db77c"
      },
      "outputs": [
        {
          "data": {
            "text/plain": [
              "8073"
            ]
          },
          "execution_count": 15,
          "metadata": {},
          "output_type": "execute_result"
        }
      ],
      "source": [
        "tf[\"words\"].nunique()"
      ]
    },
    {
      "cell_type": "code",
      "execution_count": null,
      "metadata": {
        "colab": {
          "base_uri": "https://localhost:8080/"
        },
        "id": "5lVVLQ43CGzV",
        "outputId": "6f8a2dfe-9d5d-4b1f-94c9-06faf86cbd9b"
      },
      "outputs": [
        {
          "data": {
            "text/plain": [
              "8073"
            ]
          },
          "execution_count": 16,
          "metadata": {},
          "output_type": "execute_result"
        }
      ],
      "source": [
        "tf[\"words\"].nunique()"
      ]
    },
    {
      "cell_type": "code",
      "execution_count": null,
      "metadata": {
        "colab": {
          "base_uri": "https://localhost:8080/"
        },
        "id": "PuxDwrw3CKaC",
        "outputId": "ef8f3be7-e791-4911-a9ed-04c1e2baae4f"
      },
      "outputs": [
        {
          "data": {
            "text/plain": [
              "count   8073.00\n",
              "mean      15.33\n",
              "std       96.17\n",
              "min        1.00\n",
              "5%         1.00\n",
              "10%        1.00\n",
              "25%        1.00\n",
              "50%        1.00\n",
              "75%        4.00\n",
              "80%        7.00\n",
              "90%       20.00\n",
              "95%       53.00\n",
              "99%      262.56\n",
              "max     5537.00\n",
              "Name: tf, dtype: float64"
            ]
          },
          "execution_count": 17,
          "metadata": {},
          "output_type": "execute_result"
        }
      ],
      "source": [
        "tf[\"tf\"].describe([0.05, 0.10, 0.25, 0.50, 0.75, 0.80, 0.90, 0.95, 0.99]).T\n"
      ]
    },
    {
      "cell_type": "code",
      "execution_count": null,
      "metadata": {
        "colab": {
          "base_uri": "https://localhost:8080/",
          "height": 315
        },
        "id": "PRmtQSd5CQ8b",
        "outputId": "10134670-c2c2-4155-fc3f-266c68c00f85"
      },
      "outputs": [
        {
          "data": {
            "image/png": "[encoded data removed]",
            "text/plain": [
              "<Figure size 432x288 with 1 Axes>"
            ]
          },
          "metadata": {},
          "output_type": "display_data"
        }
      ],
      "source": [
        "# Barplot\n",
        "\n",
        "tf[tf[\"tf\"] > 500].plot.bar(x=\"words\", y=\"tf\")\n",
        "plt.show()"
      ]
    },
    {
      "cell_type": "code",
      "execution_count": null,
      "metadata": {
        "colab": {
          "base_uri": "https://localhost:8080/",
          "height": 198
        },
        "id": "NQOBx3EWCUMs",
        "outputId": "61c9ee84-186b-4fcb-e369-c175d9b4be63"
      },
      "outputs": [
        {
          "data": {
            "image/png": "[encoded data removed]",
            "text/plain": [
              "<Figure size 432x288 with 1 Axes>"
            ]
          },
          "metadata": {},
          "output_type": "display_data"
        }
      ],
      "source": [
        "# Wordcloud\n",
        "\n",
        "text = \" \".join(i for i in df.reviewText)\n",
        "wordcloud = WordCloud().generate(text)\n",
        "plt.imshow(wordcloud, interpolation=\"bilinear\")\n",
        "plt.axis(\"off\")\n",
        "plt.show()"
      ]
    },
    {
      "cell_type": "code",
      "execution_count": null,
      "metadata": {
        "colab": {
          "base_uri": "https://localhost:8080/",
          "height": 215
        },
        "id": "kazxQm0QCcXN",
        "outputId": "81474e46-893b-4fc5-bc59-0383be6b5c4f"
      },
      "outputs": [
        {
          "data": {
            "image/png": "[encoded data removed]",
            "text/plain": [
              "<Figure size 432x288 with 1 Axes>"
            ]
          },
          "metadata": {},
          "output_type": "display_data"
        },
        {
          "data": {
            "text/plain": [
              "<wordcloud.wordcloud.WordCloud at 0x7fcdf1045130>"
            ]
          },
          "execution_count": 20,
          "metadata": {},
          "output_type": "execute_result"
        }
      ],
      "source": [
        "# a lighter graphic\n",
        "wordcloud = WordCloud(max_font_size=50,\n",
        "                      max_words=100,\n",
        "                      background_color=\"white\").generate(text)\n",
        "plt.figure()\n",
        "plt.imshow(wordcloud, interpolation=\"bilinear\")\n",
        "plt.axis(\"off\")\n",
        "plt.show()\n",
        "\n",
        "wordcloud.to_file(\"wordcloud.png\")\n"
      ]
    },
    {
      "cell_type": "code",
      "execution_count": null,
      "metadata": {
        "id": "yLeibQdQSikz"
      },
      "outputs": [],
      "source": []
    },
    {
      "cell_type": "markdown",
      "metadata": {
        "id": "izSb1h_nCzMo"
      },
      "source": [
        "3. Sentiment Analysis"
      ]
    },
    {
      "cell_type": "markdown",
      "metadata": {
        "id": "zcQ21NNZC6LY"
      },
      "source": [
        "# NLTK already has a built-in, pretrained sentiment analyzer\n",
        "# called VADER (Valence Aware Dictionary and sEntiment Reasoner)\n"
      ]
    },
    {
      "cell_type": "code",
      "execution_count": null,
      "metadata": {
        "colab": {
          "base_uri": "https://localhost:8080/",
          "height": 617
        },
        "id": "wjkbpn2XC-xl",
        "outputId": "c6b1010c-36af-4866-ffb2-4a1c535b49fd"
      },
      "outputs": [
        {
          "data": {
            "text/html": [
              "\n",
              "  <div id=\"df-419b4b96-1f58-499d-926a-b9ed8cd2e8b2\">\n",
              "    <div class=\"colab-df-container\">\n",
              "      <div>\n",
              "<style scoped>\n",
              "    .dataframe tbody tr th:only-of-type {\n",
              "        vertical-align: middle;\n",
              "    }\n",
              "\n",
              "    .dataframe tbody tr th {\n",
              "        vertical-align: top;\n",
              "    }\n",
              "\n",
              "    .dataframe thead th {\n",
              "        text-align: right;\n",
              "    }\n",
              "</style>\n",
              "<table border=\"1\" class=\"dataframe\">\n",
              "  <thead>\n",
              "    <tr style=\"text-align: right;\">\n",
              "      <th></th>\n",
              "      <th>reviewerID</th>\n",
              "      <th>asin</th>\n",
              "      <th>reviewerName</th>\n",
              "      <th>helpful</th>\n",
              "      <th>reviewText</th>\n",
              "      <th>overall</th>\n",
              "      <th>summary</th>\n",
              "      <th>unixReviewTime</th>\n",
              "      <th>reviewTime</th>\n",
              "      <th>day_diff</th>\n",
              "      <th>helpful_yes</th>\n",
              "      <th>total_vote</th>\n",
              "    </tr>\n",
              "  </thead>\n",
              "  <tbody>\n",
              "    <tr>\n",
              "      <th>0</th>\n",
              "      <td>A3SBTW3WS4IQSN</td>\n",
              "      <td>B007WTAJTO</td>\n",
              "      <td>NaN</td>\n",
              "      <td>[0, 0]</td>\n",
              "      <td>issue</td>\n",
              "      <td>4.00</td>\n",
              "      <td>Four Stars</td>\n",
              "      <td>1406073600</td>\n",
              "      <td>2014-07-23</td>\n",
              "      <td>138</td>\n",
              "      <td>0</td>\n",
              "      <td>0</td>\n",
              "    </tr>\n",
              "    <tr>\n",
              "      <th>1</th>\n",
              "      <td>A18K1ODH1I2MVB</td>\n",
              "      <td>B007WTAJTO</td>\n",
              "      <td>0mie</td>\n",
              "      <td>[0, 0]</td>\n",
              "      <td>purchased device worked advertised never much ...</td>\n",
              "      <td>5.00</td>\n",
              "      <td>MOAR SPACE!!!</td>\n",
              "      <td>1382659200</td>\n",
              "      <td>2013-10-25</td>\n",
              "      <td>409</td>\n",
              "      <td>0</td>\n",
              "      <td>0</td>\n",
              "    </tr>\n",
              "    <tr>\n",
              "      <th>2</th>\n",
              "      <td>A2FII3I2MBMUIA</td>\n",
              "      <td>B007WTAJTO</td>\n",
              "      <td>1K3</td>\n",
              "      <td>[0, 0]</td>\n",
              "      <td>work expected sprung higher capacity think mad...</td>\n",
              "      <td>4.00</td>\n",
              "      <td>nothing to really say....</td>\n",
              "      <td>1356220800</td>\n",
              "      <td>2012-12-23</td>\n",
              "      <td>715</td>\n",
              "      <td>0</td>\n",
              "      <td>0</td>\n",
              "    </tr>\n",
              "    <tr>\n",
              "      <th>3</th>\n",
              "      <td>A3H99DFEG68SR</td>\n",
              "      <td>B007WTAJTO</td>\n",
              "      <td>1m2</td>\n",
              "      <td>[0, 0]</td>\n",
              "      <td>think worked greathad diff bran gb card went s...</td>\n",
              "      <td>5.00</td>\n",
              "      <td>Great buy at this price!!!  *** UPDATE</td>\n",
              "      <td>1384992000</td>\n",
              "      <td>2013-11-21</td>\n",
              "      <td>382</td>\n",
              "      <td>0</td>\n",
              "      <td>0</td>\n",
              "    </tr>\n",
              "    <tr>\n",
              "      <th>4</th>\n",
              "      <td>A375ZM4U047O79</td>\n",
              "      <td>B007WTAJTO</td>\n",
              "      <td>2&amp;amp;1/2Men</td>\n",
              "      <td>[0, 0]</td>\n",
              "      <td>bought retail packaging arrived legit orange e...</td>\n",
              "      <td>5.00</td>\n",
              "      <td>best deal around</td>\n",
              "      <td>1373673600</td>\n",
              "      <td>2013-07-13</td>\n",
              "      <td>513</td>\n",
              "      <td>0</td>\n",
              "      <td>0</td>\n",
              "    </tr>\n",
              "  </tbody>\n",
              "</table>\n",
              "</div>\n",
              "      <button class=\"colab-df-convert\" onclick=\"convertToInteractive('df-419b4b96-1f58-499d-926a-b9ed8cd2e8b2')\"\n",
              "              title=\"Convert this dataframe to an interactive table.\"\n",
              "              style=\"display:none;\">\n",
              "        \n",
              "  <svg xmlns=\"http://www.w3.org/2000/svg\" height=\"24px\"viewBox=\"0 0 24 24\"\n",
              "       width=\"24px\">\n",
              "    <path d=\"M0 0h24v24H0V0z\" fill=\"none\"/>\n",
              "    <path d=\"M18.56 5.44l.94 2.06.94-2.06 2.06-.94-2.06-.94-.94-2.06-.94 2.06-2.06.94zm-11 1L8.5 8.5l.94-2.06 2.06-.94-2.06-.94L8.5 2.5l-.94 2.06-2.06.94zm10 10l.94 2.06.94-2.06 2.06-.94-2.06-.94-.94-2.06-.94 2.06-2.06.94z\"/><path d=\"M17.41 7.96l-1.37-1.37c-.4-.4-.92-.59-1.43-.59-.52 0-1.04.2-1.43.59L10.3 9.45l-7.72 7.72c-.78.78-.78 2.05 0 2.83L4 21.41c.39.39.9.59 1.41.59.51 0 1.02-.2 1.41-.59l7.78-7.78 2.81-2.81c.8-.78.8-2.07 0-2.86zM5.41 20L4 18.59l7.72-7.72 1.47 1.35L5.41 20z\"/>\n",
              "  </svg>\n",
              "      </button>\n",
              "      \n",
              "  <style>\n",
              "    .colab-df-container {\n",
              "      display:flex;\n",
              "      flex-wrap:wrap;\n",
              "      gap: 12px;\n",
              "    }\n",
              "\n",
              "    .colab-df-convert {\n",
              "      background-color: #E8F0FE;\n",
              "      border: none;\n",
              "      border-radius: 50%;\n",
              "      cursor: pointer;\n",
              "      display: none;\n",
              "      fill: #1967D2;\n",
              "      height: 32px;\n",
              "      padding: 0 0 0 0;\n",
              "      width: 32px;\n",
              "    }\n",
              "\n",
              "    .colab-df-convert:hover {\n",
              "      background-color: #E2EBFA;\n",
              "      box-shadow: 0px 1px 2px rgba(60, 64, 67, 0.3), 0px 1px 3px 1px rgba(60, 64, 67, 0.15);\n",
              "      fill: #174EA6;\n",
              "    }\n",
              "\n",
              "    [theme=dark] .colab-df-convert {\n",
              "      background-color: #3B4455;\n",
              "      fill: #D2E3FC;\n",
              "    }\n",
              "\n",
              "    [theme=dark] .colab-df-convert:hover {\n",
              "      background-color: #434B5C;\n",
              "      box-shadow: 0px 1px 3px 1px rgba(0, 0, 0, 0.15);\n",
              "      filter: drop-shadow(0px 1px 2px rgba(0, 0, 0, 0.3));\n",
              "      fill: #FFFFFF;\n",
              "    }\n",
              "  </style>\n",
              "\n",
              "      <script>\n",
              "        const buttonEl =\n",
              "          document.querySelector('#df-419b4b96-1f58-499d-926a-b9ed8cd2e8b2 button.colab-df-convert');\n",
              "        buttonEl.style.display =\n",
              "          google.colab.kernel.accessAllowed ? 'block' : 'none';\n",
              "\n",
              "        async function convertToInteractive(key) {\n",
              "          const element = document.querySelector('#df-419b4b96-1f58-499d-926a-b9ed8cd2e8b2');\n",
              "          const dataTable =\n",
              "            await google.colab.kernel.invokeFunction('convertToInteractive',\n",
              "                                                     [key], {});\n",
              "          if (!dataTable) return;\n",
              "\n",
              "          const docLinkHtml = 'Like what you see? Visit the ' +\n",
              "            '<a target=\"_blank\" href=https://colab.research.google.com/notebooks/data_table.ipynb>data table notebook</a>'\n",
              "            + ' to learn more about interactive tables.';\n",
              "          element.innerHTML = '';\n",
              "          dataTable['output_type'] = 'display_data';\n",
              "          await google.colab.output.renderOutput(dataTable, element);\n",
              "          const docLink = document.createElement('div');\n",
              "          docLink.innerHTML = docLinkHtml;\n",
              "          element.appendChild(docLink);\n",
              "        }\n",
              "      </script>\n",
              "    </div>\n",
              "  </div>\n",
              "  "
            ],
            "text/plain": [
              "       reviewerID        asin  reviewerName helpful                                         reviewText  overall                                 summary  unixReviewTime  reviewTime  day_diff  \\\n",
              "0  A3SBTW3WS4IQSN  B007WTAJTO           NaN  [0, 0]                                              issue     4.00                              Four Stars      1406073600  2014-07-23       138   \n",
              "1  A18K1ODH1I2MVB  B007WTAJTO          0mie  [0, 0]  purchased device worked advertised never much ...     5.00                           MOAR SPACE!!!      1382659200  2013-10-25       409   \n",
              "2  A2FII3I2MBMUIA  B007WTAJTO           1K3  [0, 0]  work expected sprung higher capacity think mad...     4.00               nothing to really say....      1356220800  2012-12-23       715   \n",
              "3   A3H99DFEG68SR  B007WTAJTO           1m2  [0, 0]  think worked greathad diff bran gb card went s...     5.00  Great buy at this price!!!  *** UPDATE      1384992000  2013-11-21       382   \n",
              "4  A375ZM4U047O79  B007WTAJTO  2&amp;1/2Men  [0, 0]  bought retail packaging arrived legit orange e...     5.00                        best deal around      1373673600  2013-07-13       513   \n",
              "\n",
              "   helpful_yes  total_vote  \n",
              "0            0           0  \n",
              "1            0           0  \n",
              "2            0           0  \n",
              "3            0           0  \n",
              "4            0           0  "
            ]
          },
          "execution_count": 21,
          "metadata": {},
          "output_type": "execute_result"
        }
      ],
      "source": [
        "df.head()"
      ]
    },
    {
      "cell_type": "code",
      "execution_count": null,
      "metadata": {
        "colab": {
          "base_uri": "https://localhost:8080/"
        },
        "id": "2jI4zvjDDNRg",
        "outputId": "97cbd7a6-dab0-4d77-e084-305b04b30ef7"
      },
      "outputs": [
        {
          "name": "stderr",
          "output_type": "stream",
          "text": [
            "[nltk_data] Downloading package vader_lexicon to /root/nltk_data...\n"
          ]
        },
        {
          "data": {
            "text/plain": [
              "True"
            ]
          },
          "execution_count": 22,
          "metadata": {},
          "output_type": "execute_result"
        }
      ],
      "source": [
        "import nltk\n",
        "nltk.download('vader_lexicon')"
      ]
    },
    {
      "cell_type": "code",
      "execution_count": null,
      "metadata": {
        "id": "FWtX4KW0DCn3"
      },
      "outputs": [],
      "source": [
        "# nltk.download('vader_lexicon')\n",
        "sia = SentimentIntensityAnalyzer()"
      ]
    },
    {
      "cell_type": "code",
      "execution_count": null,
      "metadata": {
        "colab": {
          "base_uri": "https://localhost:8080/"
        },
        "id": "1YlT6kZeDR6E",
        "outputId": "6ea1acb7-b66a-45a9-a888-d0065cdee765"
      },
      "outputs": [
        {
          "data": {
            "text/plain": [
              "{'neg': 0.0, 'neu': 0.423, 'pos': 0.577, 'compound': 0.6249}"
            ]
          },
          "execution_count": 24,
          "metadata": {},
          "output_type": "execute_result"
        }
      ],
      "source": [
        "sia.polarity_scores(\"The film was awesome\")"
      ]
    },
    {
      "cell_type": "code",
      "execution_count": null,
      "metadata": {
        "colab": {
          "base_uri": "https://localhost:8080/"
        },
        "id": "XYeNT8GODX9N",
        "outputId": "9086948f-432b-468d-e9c5-2dc803c6e49a"
      },
      "outputs": [
        {
          "data": {
            "text/plain": [
              "{'neg': 0.207, 'neu': 0.666, 'pos': 0.127, 'compound': -0.298}"
            ]
          },
          "execution_count": 25,
          "metadata": {},
          "output_type": "execute_result"
        }
      ],
      "source": [
        "sia.polarity_scores(\"I liked this music but it is not good as the other one\")"
      ]
    },
    {
      "cell_type": "code",
      "execution_count": null,
      "metadata": {
        "colab": {
          "base_uri": "https://localhost:8080/"
        },
        "id": "HNLZnEXlDcgc",
        "outputId": "25572edf-9a8e-43f0-db82-a2c8bdc88a0b"
      },
      "outputs": [
        {
          "data": {
            "text/plain": [
              "0                                                   ISSUE\n",
              "1       PURCHASED DEVICE WORKED ADVERTISED NEVER MUCH ...\n",
              "2       WORK EXPECTED SPRUNG HIGHER CAPACITY THINK MAD...\n",
              "3       THINK WORKED GREATHAD DIFF BRAN GB CARD WENT S...\n",
              "4       BOUGHT RETAIL PACKAGING ARRIVED LEGIT ORANGE E...\n",
              "                              ...                        \n",
              "4910    BOUGHT SANDISK GB CLASS USE HTC INSPIRE MONTH ...\n",
              "4911    USED EXTENDING CAPABILITY SAMSUNG GALAXY NOTE ...\n",
              "4912    GREAT CARD FAST RELIABLE COME OPTIONAL ADAPTER...\n",
              "4913           GOOD AMOUNT SPACE STUFF WANT FIT GOPRO SAY\n",
              "4914    IVE HEARD BAD THING GB MICRO SD CARD CRAPPING ...\n",
              "Name: reviewText, Length: 4915, dtype: object"
            ]
          },
          "execution_count": 26,
          "metadata": {},
          "output_type": "execute_result"
        }
      ],
      "source": [
        "# For example, if we want to enlarge the reviews\n",
        "df[\"reviewText\"].apply(lambda x: x.upper())"
      ]
    },
    {
      "cell_type": "code",
      "execution_count": null,
      "metadata": {
        "colab": {
          "base_uri": "https://localhost:8080/"
        },
        "id": "CbvOOFp_Dguo",
        "outputId": "2aa890d0-eaef-4f35-c8c4-b5b590a4605c"
      },
      "outputs": [
        {
          "data": {
            "text/plain": [
              "0    {'neg': 0.0, 'neu': 1.0, 'pos': 0.0, 'compound...\n",
              "1    {'neg': 0.0, 'neu': 1.0, 'pos': 0.0, 'compound...\n",
              "2    {'neg': 0.0, 'neu': 0.828, 'pos': 0.172, 'comp...\n",
              "3    {'neg': 0.0, 'neu': 0.831, 'pos': 0.169, 'comp...\n",
              "4    {'neg': 0.0, 'neu': 0.765, 'pos': 0.235, 'comp...\n",
              "5    {'neg': 0.0, 'neu': 1.0, 'pos': 0.0, 'compound...\n",
              "6    {'neg': 0.099, 'neu': 0.589, 'pos': 0.312, 'co...\n",
              "7    {'neg': 0.066, 'neu': 0.703, 'pos': 0.231, 'co...\n",
              "8    {'neg': 0.0, 'neu': 1.0, 'pos': 0.0, 'compound...\n",
              "9    {'neg': 0.0, 'neu': 0.457, 'pos': 0.543, 'comp...\n",
              "Name: reviewText, dtype: object"
            ]
          },
          "execution_count": 27,
          "metadata": {},
          "output_type": "execute_result"
        }
      ],
      "source": [
        "\n",
        "#Now let's calculate the scores for example 10 of them\n",
        "df[\"reviewText\"][0:10].apply(lambda x: sia.polarity_scores(x))"
      ]
    },
    {
      "cell_type": "code",
      "execution_count": null,
      "metadata": {
        "colab": {
          "base_uri": "https://localhost:8080/"
        },
        "id": "hQ9ST3DiDmzm",
        "outputId": "3cbfdb2b-6509-4da2-8556-2501cb743cb2"
      },
      "outputs": [
        {
          "data": {
            "text/plain": [
              "0   0.00\n",
              "1   0.00\n",
              "2   0.40\n",
              "3   0.65\n",
              "4   0.86\n",
              "5   0.00\n",
              "6   0.90\n",
              "7   0.82\n",
              "8   0.00\n",
              "9   0.92\n",
              "Name: reviewText, dtype: float64"
            ]
          },
          "execution_count": 28,
          "metadata": {},
          "output_type": "execute_result"
        }
      ],
      "source": [
        "#what if we want to select only one component from this dictionary?\n",
        "df[\"reviewText\"][0:10].apply(lambda x: sia.polarity_scores(x)[\"compound\"])"
      ]
    },
    {
      "cell_type": "code",
      "execution_count": null,
      "metadata": {
        "colab": {
          "base_uri": "https://localhost:8080/",
          "height": 617
        },
        "id": "vt2-FjAYDrGE",
        "outputId": "06ccce52-a03b-4983-ce18-34c08803ce9f"
      },
      "outputs": [
        {
          "data": {
            "text/html": [
              "\n",
              "  <div id=\"df-9df3d023-142d-4df8-9ec9-6e636df806f1\">\n",
              "    <div class=\"colab-df-container\">\n",
              "      <div>\n",
              "<style scoped>\n",
              "    .dataframe tbody tr th:only-of-type {\n",
              "        vertical-align: middle;\n",
              "    }\n",
              "\n",
              "    .dataframe tbody tr th {\n",
              "        vertical-align: top;\n",
              "    }\n",
              "\n",
              "    .dataframe thead th {\n",
              "        text-align: right;\n",
              "    }\n",
              "</style>\n",
              "<table border=\"1\" class=\"dataframe\">\n",
              "  <thead>\n",
              "    <tr style=\"text-align: right;\">\n",
              "      <th></th>\n",
              "      <th>reviewerID</th>\n",
              "      <th>asin</th>\n",
              "      <th>reviewerName</th>\n",
              "      <th>helpful</th>\n",
              "      <th>reviewText</th>\n",
              "      <th>overall</th>\n",
              "      <th>summary</th>\n",
              "      <th>unixReviewTime</th>\n",
              "      <th>reviewTime</th>\n",
              "      <th>day_diff</th>\n",
              "      <th>helpful_yes</th>\n",
              "      <th>total_vote</th>\n",
              "      <th>polarity_score</th>\n",
              "    </tr>\n",
              "  </thead>\n",
              "  <tbody>\n",
              "    <tr>\n",
              "      <th>0</th>\n",
              "      <td>A3SBTW3WS4IQSN</td>\n",
              "      <td>B007WTAJTO</td>\n",
              "      <td>NaN</td>\n",
              "      <td>[0, 0]</td>\n",
              "      <td>issue</td>\n",
              "      <td>4.00</td>\n",
              "      <td>Four Stars</td>\n",
              "      <td>1406073600</td>\n",
              "      <td>2014-07-23</td>\n",
              "      <td>138</td>\n",
              "      <td>0</td>\n",
              "      <td>0</td>\n",
              "      <td>0.00</td>\n",
              "    </tr>\n",
              "    <tr>\n",
              "      <th>1</th>\n",
              "      <td>A18K1ODH1I2MVB</td>\n",
              "      <td>B007WTAJTO</td>\n",
              "      <td>0mie</td>\n",
              "      <td>[0, 0]</td>\n",
              "      <td>purchased device worked advertised never much ...</td>\n",
              "      <td>5.00</td>\n",
              "      <td>MOAR SPACE!!!</td>\n",
              "      <td>1382659200</td>\n",
              "      <td>2013-10-25</td>\n",
              "      <td>409</td>\n",
              "      <td>0</td>\n",
              "      <td>0</td>\n",
              "      <td>0.00</td>\n",
              "    </tr>\n",
              "    <tr>\n",
              "      <th>2</th>\n",
              "      <td>A2FII3I2MBMUIA</td>\n",
              "      <td>B007WTAJTO</td>\n",
              "      <td>1K3</td>\n",
              "      <td>[0, 0]</td>\n",
              "      <td>work expected sprung higher capacity think mad...</td>\n",
              "      <td>4.00</td>\n",
              "      <td>nothing to really say....</td>\n",
              "      <td>1356220800</td>\n",
              "      <td>2012-12-23</td>\n",
              "      <td>715</td>\n",
              "      <td>0</td>\n",
              "      <td>0</td>\n",
              "      <td>0.40</td>\n",
              "    </tr>\n",
              "    <tr>\n",
              "      <th>3</th>\n",
              "      <td>A3H99DFEG68SR</td>\n",
              "      <td>B007WTAJTO</td>\n",
              "      <td>1m2</td>\n",
              "      <td>[0, 0]</td>\n",
              "      <td>think worked greathad diff bran gb card went s...</td>\n",
              "      <td>5.00</td>\n",
              "      <td>Great buy at this price!!!  *** UPDATE</td>\n",
              "      <td>1384992000</td>\n",
              "      <td>2013-11-21</td>\n",
              "      <td>382</td>\n",
              "      <td>0</td>\n",
              "      <td>0</td>\n",
              "      <td>0.65</td>\n",
              "    </tr>\n",
              "    <tr>\n",
              "      <th>4</th>\n",
              "      <td>A375ZM4U047O79</td>\n",
              "      <td>B007WTAJTO</td>\n",
              "      <td>2&amp;amp;1/2Men</td>\n",
              "      <td>[0, 0]</td>\n",
              "      <td>bought retail packaging arrived legit orange e...</td>\n",
              "      <td>5.00</td>\n",
              "      <td>best deal around</td>\n",
              "      <td>1373673600</td>\n",
              "      <td>2013-07-13</td>\n",
              "      <td>513</td>\n",
              "      <td>0</td>\n",
              "      <td>0</td>\n",
              "      <td>0.86</td>\n",
              "    </tr>\n",
              "  </tbody>\n",
              "</table>\n",
              "</div>\n",
              "      <button class=\"colab-df-convert\" onclick=\"convertToInteractive('df-9df3d023-142d-4df8-9ec9-6e636df806f1')\"\n",
              "              title=\"Convert this dataframe to an interactive table.\"\n",
              "              style=\"display:none;\">\n",
              "        \n",
              "  <svg xmlns=\"http://www.w3.org/2000/svg\" height=\"24px\"viewBox=\"0 0 24 24\"\n",
              "       width=\"24px\">\n",
              "    <path d=\"M0 0h24v24H0V0z\" fill=\"none\"/>\n",
              "    <path d=\"M18.56 5.44l.94 2.06.94-2.06 2.06-.94-2.06-.94-.94-2.06-.94 2.06-2.06.94zm-11 1L8.5 8.5l.94-2.06 2.06-.94-2.06-.94L8.5 2.5l-.94 2.06-2.06.94zm10 10l.94 2.06.94-2.06 2.06-.94-2.06-.94-.94-2.06-.94 2.06-2.06.94z\"/><path d=\"M17.41 7.96l-1.37-1.37c-.4-.4-.92-.59-1.43-.59-.52 0-1.04.2-1.43.59L10.3 9.45l-7.72 7.72c-.78.78-.78 2.05 0 2.83L4 21.41c.39.39.9.59 1.41.59.51 0 1.02-.2 1.41-.59l7.78-7.78 2.81-2.81c.8-.78.8-2.07 0-2.86zM5.41 20L4 18.59l7.72-7.72 1.47 1.35L5.41 20z\"/>\n",
              "  </svg>\n",
              "      </button>\n",
              "      \n",
              "  <style>\n",
              "    .colab-df-container {\n",
              "      display:flex;\n",
              "      flex-wrap:wrap;\n",
              "      gap: 12px;\n",
              "    }\n",
              "\n",
              "    .colab-df-convert {\n",
              "      background-color: #E8F0FE;\n",
              "      border: none;\n",
              "      border-radius: 50%;\n",
              "      cursor: pointer;\n",
              "      display: none;\n",
              "      fill: #1967D2;\n",
              "      height: 32px;\n",
              "      padding: 0 0 0 0;\n",
              "      width: 32px;\n",
              "    }\n",
              "\n",
              "    .colab-df-convert:hover {\n",
              "      background-color: #E2EBFA;\n",
              "      box-shadow: 0px 1px 2px rgba(60, 64, 67, 0.3), 0px 1px 3px 1px rgba(60, 64, 67, 0.15);\n",
              "      fill: #174EA6;\n",
              "    }\n",
              "\n",
              "    [theme=dark] .colab-df-convert {\n",
              "      background-color: #3B4455;\n",
              "      fill: #D2E3FC;\n",
              "    }\n",
              "\n",
              "    [theme=dark] .colab-df-convert:hover {\n",
              "      background-color: #434B5C;\n",
              "      box-shadow: 0px 1px 3px 1px rgba(0, 0, 0, 0.15);\n",
              "      filter: drop-shadow(0px 1px 2px rgba(0, 0, 0, 0.3));\n",
              "      fill: #FFFFFF;\n",
              "    }\n",
              "  </style>\n",
              "\n",
              "      <script>\n",
              "        const buttonEl =\n",
              "          document.querySelector('#df-9df3d023-142d-4df8-9ec9-6e636df806f1 button.colab-df-convert');\n",
              "        buttonEl.style.display =\n",
              "          google.colab.kernel.accessAllowed ? 'block' : 'none';\n",
              "\n",
              "        async function convertToInteractive(key) {\n",
              "          const element = document.querySelector('#df-9df3d023-142d-4df8-9ec9-6e636df806f1');\n",
              "          const dataTable =\n",
              "            await google.colab.kernel.invokeFunction('convertToInteractive',\n",
              "                                                     [key], {});\n",
              "          if (!dataTable) return;\n",
              "\n",
              "          const docLinkHtml = 'Like what you see? Visit the ' +\n",
              "            '<a target=\"_blank\" href=https://colab.research.google.com/notebooks/data_table.ipynb>data table notebook</a>'\n",
              "            + ' to learn more about interactive tables.';\n",
              "          element.innerHTML = '';\n",
              "          dataTable['output_type'] = 'display_data';\n",
              "          await google.colab.output.renderOutput(dataTable, element);\n",
              "          const docLink = document.createElement('div');\n",
              "          docLink.innerHTML = docLinkHtml;\n",
              "          element.appendChild(docLink);\n",
              "        }\n",
              "      </script>\n",
              "    </div>\n",
              "  </div>\n",
              "  "
            ],
            "text/plain": [
              "       reviewerID        asin  reviewerName helpful                                         reviewText  overall                                 summary  unixReviewTime  reviewTime  day_diff  \\\n",
              "0  A3SBTW3WS4IQSN  B007WTAJTO           NaN  [0, 0]                                              issue     4.00                              Four Stars      1406073600  2014-07-23       138   \n",
              "1  A18K1ODH1I2MVB  B007WTAJTO          0mie  [0, 0]  purchased device worked advertised never much ...     5.00                           MOAR SPACE!!!      1382659200  2013-10-25       409   \n",
              "2  A2FII3I2MBMUIA  B007WTAJTO           1K3  [0, 0]  work expected sprung higher capacity think mad...     4.00               nothing to really say....      1356220800  2012-12-23       715   \n",
              "3   A3H99DFEG68SR  B007WTAJTO           1m2  [0, 0]  think worked greathad diff bran gb card went s...     5.00  Great buy at this price!!!  *** UPDATE      1384992000  2013-11-21       382   \n",
              "4  A375ZM4U047O79  B007WTAJTO  2&amp;1/2Men  [0, 0]  bought retail packaging arrived legit orange e...     5.00                        best deal around      1373673600  2013-07-13       513   \n",
              "\n",
              "   helpful_yes  total_vote  polarity_score  \n",
              "0            0           0            0.00  \n",
              "1            0           0            0.00  \n",
              "2            0           0            0.40  \n",
              "3            0           0            0.65  \n",
              "4            0           0            0.86  "
            ]
          },
          "execution_count": 29,
          "metadata": {},
          "output_type": "execute_result"
        }
      ],
      "source": [
        "\n",
        "#Let's do it permanently\n",
        "df[\"polarity_score\"] = df[\"reviewText\"].apply(lambda x: sia.polarity_scores(x)[\"compound\"])\n",
        "df.head()"
      ]
    },
    {
      "cell_type": "markdown",
      "metadata": {
        "id": "GonslR8mD2D2"
      },
      "source": [
        "4. Sentiment Modeling"
      ]
    },
    {
      "cell_type": "code",
      "execution_count": null,
      "metadata": {
        "colab": {
          "base_uri": "https://localhost:8080/"
        },
        "id": "355USBqwD3AC",
        "outputId": "cdf0e52b-9a6c-4e82-f56f-a096ee31768a"
      },
      "outputs": [
        {
          "data": {
            "text/plain": [
              "0    neg\n",
              "1    neg\n",
              "2    pos\n",
              "3    pos\n",
              "4    pos\n",
              "5    neg\n",
              "6    pos\n",
              "7    pos\n",
              "8    neg\n",
              "9    pos\n",
              "Name: reviewText, dtype: object"
            ]
          },
          "execution_count": 30,
          "metadata": {},
          "output_type": "execute_result"
        }
      ],
      "source": [
        "\n",
        "#Creating Target\n",
        "df[\"reviewText\"][0:10].apply(lambda x: \"pos\" if sia.polarity_scores(x)[\"compound\"] > 0 else \"neg\")"
      ]
    },
    {
      "cell_type": "code",
      "execution_count": null,
      "metadata": {
        "colab": {
          "base_uri": "https://localhost:8080/",
          "height": 1000
        },
        "id": "3IcUxSogD6CF",
        "outputId": "9471e774-93d5-42c0-921d-bf7263fead3b"
      },
      "outputs": [
        {
          "data": {
            "text/html": [
              "\n",
              "  <div id=\"df-82637bc2-30ac-4067-8089-15e6aa6ac247\">\n",
              "    <div class=\"colab-df-container\">\n",
              "      <div>\n",
              "<style scoped>\n",
              "    .dataframe tbody tr th:only-of-type {\n",
              "        vertical-align: middle;\n",
              "    }\n",
              "\n",
              "    .dataframe tbody tr th {\n",
              "        vertical-align: top;\n",
              "    }\n",
              "\n",
              "    .dataframe thead th {\n",
              "        text-align: right;\n",
              "    }\n",
              "</style>\n",
              "<table border=\"1\" class=\"dataframe\">\n",
              "  <thead>\n",
              "    <tr style=\"text-align: right;\">\n",
              "      <th></th>\n",
              "      <th>reviewerID</th>\n",
              "      <th>asin</th>\n",
              "      <th>reviewerName</th>\n",
              "      <th>helpful</th>\n",
              "      <th>reviewText</th>\n",
              "      <th>overall</th>\n",
              "      <th>summary</th>\n",
              "      <th>unixReviewTime</th>\n",
              "      <th>reviewTime</th>\n",
              "      <th>day_diff</th>\n",
              "      <th>helpful_yes</th>\n",
              "      <th>total_vote</th>\n",
              "      <th>polarity_score</th>\n",
              "      <th>sentiment_label</th>\n",
              "    </tr>\n",
              "  </thead>\n",
              "  <tbody>\n",
              "    <tr>\n",
              "      <th>0</th>\n",
              "      <td>A3SBTW3WS4IQSN</td>\n",
              "      <td>B007WTAJTO</td>\n",
              "      <td>NaN</td>\n",
              "      <td>[0, 0]</td>\n",
              "      <td>issue</td>\n",
              "      <td>4.00</td>\n",
              "      <td>Four Stars</td>\n",
              "      <td>1406073600</td>\n",
              "      <td>2014-07-23</td>\n",
              "      <td>138</td>\n",
              "      <td>0</td>\n",
              "      <td>0</td>\n",
              "      <td>0.00</td>\n",
              "      <td>neg</td>\n",
              "    </tr>\n",
              "    <tr>\n",
              "      <th>1</th>\n",
              "      <td>A18K1ODH1I2MVB</td>\n",
              "      <td>B007WTAJTO</td>\n",
              "      <td>0mie</td>\n",
              "      <td>[0, 0]</td>\n",
              "      <td>purchased device worked advertised never much ...</td>\n",
              "      <td>5.00</td>\n",
              "      <td>MOAR SPACE!!!</td>\n",
              "      <td>1382659200</td>\n",
              "      <td>2013-10-25</td>\n",
              "      <td>409</td>\n",
              "      <td>0</td>\n",
              "      <td>0</td>\n",
              "      <td>0.00</td>\n",
              "      <td>neg</td>\n",
              "    </tr>\n",
              "    <tr>\n",
              "      <th>2</th>\n",
              "      <td>A2FII3I2MBMUIA</td>\n",
              "      <td>B007WTAJTO</td>\n",
              "      <td>1K3</td>\n",
              "      <td>[0, 0]</td>\n",
              "      <td>work expected sprung higher capacity think mad...</td>\n",
              "      <td>4.00</td>\n",
              "      <td>nothing to really say....</td>\n",
              "      <td>1356220800</td>\n",
              "      <td>2012-12-23</td>\n",
              "      <td>715</td>\n",
              "      <td>0</td>\n",
              "      <td>0</td>\n",
              "      <td>0.40</td>\n",
              "      <td>pos</td>\n",
              "    </tr>\n",
              "    <tr>\n",
              "      <th>3</th>\n",
              "      <td>A3H99DFEG68SR</td>\n",
              "      <td>B007WTAJTO</td>\n",
              "      <td>1m2</td>\n",
              "      <td>[0, 0]</td>\n",
              "      <td>think worked greathad diff bran gb card went s...</td>\n",
              "      <td>5.00</td>\n",
              "      <td>Great buy at this price!!!  *** UPDATE</td>\n",
              "      <td>1384992000</td>\n",
              "      <td>2013-11-21</td>\n",
              "      <td>382</td>\n",
              "      <td>0</td>\n",
              "      <td>0</td>\n",
              "      <td>0.65</td>\n",
              "      <td>pos</td>\n",
              "    </tr>\n",
              "    <tr>\n",
              "      <th>4</th>\n",
              "      <td>A375ZM4U047O79</td>\n",
              "      <td>B007WTAJTO</td>\n",
              "      <td>2&amp;amp;1/2Men</td>\n",
              "      <td>[0, 0]</td>\n",
              "      <td>bought retail packaging arrived legit orange e...</td>\n",
              "      <td>5.00</td>\n",
              "      <td>best deal around</td>\n",
              "      <td>1373673600</td>\n",
              "      <td>2013-07-13</td>\n",
              "      <td>513</td>\n",
              "      <td>0</td>\n",
              "      <td>0</td>\n",
              "      <td>0.86</td>\n",
              "      <td>pos</td>\n",
              "    </tr>\n",
              "    <tr>\n",
              "      <th>5</th>\n",
              "      <td>A2IDCSC6NVONIZ</td>\n",
              "      <td>B007WTAJTO</td>\n",
              "      <td>2Cents!</td>\n",
              "      <td>[0, 0]</td>\n",
              "      <td>mini storage doesnt anything else supposed pur...</td>\n",
              "      <td>5.00</td>\n",
              "      <td>Not a lot to really be said</td>\n",
              "      <td>1367193600</td>\n",
              "      <td>2013-04-29</td>\n",
              "      <td>588</td>\n",
              "      <td>0</td>\n",
              "      <td>0</td>\n",
              "      <td>0.00</td>\n",
              "      <td>neg</td>\n",
              "    </tr>\n",
              "    <tr>\n",
              "      <th>6</th>\n",
              "      <td>A26YHXZD5UFPVQ</td>\n",
              "      <td>B007WTAJTO</td>\n",
              "      <td>2K1Toaster</td>\n",
              "      <td>[0, 0]</td>\n",
              "      <td>phone never skip beat file transfer speedy cor...</td>\n",
              "      <td>5.00</td>\n",
              "      <td>Works well</td>\n",
              "      <td>1382140800</td>\n",
              "      <td>2013-10-19</td>\n",
              "      <td>415</td>\n",
              "      <td>0</td>\n",
              "      <td>0</td>\n",
              "      <td>0.90</td>\n",
              "      <td>pos</td>\n",
              "    </tr>\n",
              "    <tr>\n",
              "      <th>7</th>\n",
              "      <td>A3CW0ZLUO5X2B1</td>\n",
              "      <td>B007WTAJTO</td>\n",
              "      <td>35-year Technology Consumer \"8-tracks to 802.11\"</td>\n",
              "      <td>[0, 0]</td>\n",
              "      <td>hard believe affordable digital become gb devi...</td>\n",
              "      <td>5.00</td>\n",
              "      <td>32 GB for less than two sawbucks...what's not ...</td>\n",
              "      <td>1404950400</td>\n",
              "      <td>2014-10-07</td>\n",
              "      <td>62</td>\n",
              "      <td>0</td>\n",
              "      <td>0</td>\n",
              "      <td>0.82</td>\n",
              "      <td>pos</td>\n",
              "    </tr>\n",
              "    <tr>\n",
              "      <th>8</th>\n",
              "      <td>A2CYJO155QP33S</td>\n",
              "      <td>B007WTAJTO</td>\n",
              "      <td>4evryoung</td>\n",
              "      <td>[1, 1]</td>\n",
              "      <td>work htc rezound running short space gb sandis...</td>\n",
              "      <td>5.00</td>\n",
              "      <td>Loads of room</td>\n",
              "      <td>1395619200</td>\n",
              "      <td>2014-03-24</td>\n",
              "      <td>259</td>\n",
              "      <td>1</td>\n",
              "      <td>1</td>\n",
              "      <td>0.00</td>\n",
              "      <td>neg</td>\n",
              "    </tr>\n",
              "    <tr>\n",
              "      <th>9</th>\n",
              "      <td>A2S7XG3ZC4VGOQ</td>\n",
              "      <td>B007WTAJTO</td>\n",
              "      <td>53rdcard</td>\n",
              "      <td>[0, 0]</td>\n",
              "      <td>galaxy super fast card totally happy happy sti...</td>\n",
              "      <td>5.00</td>\n",
              "      <td>works great</td>\n",
              "      <td>1381449600</td>\n",
              "      <td>2013-11-10</td>\n",
              "      <td>393</td>\n",
              "      <td>0</td>\n",
              "      <td>0</td>\n",
              "      <td>0.92</td>\n",
              "      <td>pos</td>\n",
              "    </tr>\n",
              "    <tr>\n",
              "      <th>10</th>\n",
              "      <td>A1RTQROTWR5NCB</td>\n",
              "      <td>B007WTAJTO</td>\n",
              "      <td>808TREX50</td>\n",
              "      <td>[0, 0]</td>\n",
              "      <td>like sd card take music video downloads person...</td>\n",
              "      <td>5.00</td>\n",
              "      <td>32GB MicroSD Card.</td>\n",
              "      <td>1368230400</td>\n",
              "      <td>2013-11-05</td>\n",
              "      <td>398</td>\n",
              "      <td>0</td>\n",
              "      <td>0</td>\n",
              "      <td>0.94</td>\n",
              "      <td>pos</td>\n",
              "    </tr>\n",
              "    <tr>\n",
              "      <th>11</th>\n",
              "      <td>A2Q3ICGWZLY3JJ</td>\n",
              "      <td>B007WTAJTO</td>\n",
              "      <td>98020</td>\n",
              "      <td>[0, 0]</td>\n",
              "      <td>work file writes bit slower expected usb reade...</td>\n",
              "      <td>3.00</td>\n",
              "      <td>It works, but not as fast as expected</td>\n",
              "      <td>1384905600</td>\n",
              "      <td>2013-11-20</td>\n",
              "      <td>383</td>\n",
              "      <td>0</td>\n",
              "      <td>0</td>\n",
              "      <td>0.00</td>\n",
              "      <td>neg</td>\n",
              "    </tr>\n",
              "    <tr>\n",
              "      <th>12</th>\n",
              "      <td>AN2VFTXYW1SZU</td>\n",
              "      <td>B007WTAJTO</td>\n",
              "      <td>9z4cda</td>\n",
              "      <td>[0, 0]</td>\n",
              "      <td>name speaks go sandisk go</td>\n",
              "      <td>5.00</td>\n",
              "      <td>A RENOUND NAME BRAND</td>\n",
              "      <td>1404432000</td>\n",
              "      <td>2014-04-07</td>\n",
              "      <td>245</td>\n",
              "      <td>0</td>\n",
              "      <td>0</td>\n",
              "      <td>0.00</td>\n",
              "      <td>neg</td>\n",
              "    </tr>\n",
              "    <tr>\n",
              "      <th>13</th>\n",
              "      <td>AVHN134ADVP4R</td>\n",
              "      <td>B007WTAJTO</td>\n",
              "      <td>A4Q96 \"Gadget Lover\"</td>\n",
              "      <td>[0, 0]</td>\n",
              "      <td>solid sdhc card fast reading writing fast reco...</td>\n",
              "      <td>5.00</td>\n",
              "      <td>Great SDHC card</td>\n",
              "      <td>1384992000</td>\n",
              "      <td>2013-11-21</td>\n",
              "      <td>382</td>\n",
              "      <td>0</td>\n",
              "      <td>0</td>\n",
              "      <td>0.82</td>\n",
              "      <td>pos</td>\n",
              "    </tr>\n",
              "    <tr>\n",
              "      <th>14</th>\n",
              "      <td>A3EA7KGYC8LB0</td>\n",
              "      <td>B007WTAJTO</td>\n",
              "      <td>Aaron \"Aaron\"</td>\n",
              "      <td>[0, 0]</td>\n",
              "      <td>heard card write speed insufficient however us...</td>\n",
              "      <td>5.00</td>\n",
              "      <td>Use it for my GoPro Hero 3+ Black</td>\n",
              "      <td>1392595200</td>\n",
              "      <td>2014-02-17</td>\n",
              "      <td>294</td>\n",
              "      <td>0</td>\n",
              "      <td>0</td>\n",
              "      <td>0.31</td>\n",
              "      <td>pos</td>\n",
              "    </tr>\n",
              "    <tr>\n",
              "      <th>15</th>\n",
              "      <td>A29RI184HRX66H</td>\n",
              "      <td>B007WTAJTO</td>\n",
              "      <td>Aaron \"Aaron\"</td>\n",
              "      <td>[0, 0]</td>\n",
              "      <td>bought use go pro hero black edition requires ...</td>\n",
              "      <td>5.00</td>\n",
              "      <td>Awesome price, great brand name</td>\n",
              "      <td>1357257600</td>\n",
              "      <td>2013-04-01</td>\n",
              "      <td>616</td>\n",
              "      <td>0</td>\n",
              "      <td>0</td>\n",
              "      <td>0.72</td>\n",
              "      <td>pos</td>\n",
              "    </tr>\n",
              "    <tr>\n",
              "      <th>16</th>\n",
              "      <td>A2G9ZHVA6IOGBY</td>\n",
              "      <td>B007WTAJTO</td>\n",
              "      <td>Aaron Alvarez</td>\n",
              "      <td>[0, 0]</td>\n",
              "      <td>got gb one filled kept getting insufficient di...</td>\n",
              "      <td>5.00</td>\n",
              "      <td>great price. fast</td>\n",
              "      <td>1393718400</td>\n",
              "      <td>2014-02-03</td>\n",
              "      <td>308</td>\n",
              "      <td>0</td>\n",
              "      <td>0</td>\n",
              "      <td>0.85</td>\n",
              "      <td>pos</td>\n",
              "    </tr>\n",
              "    <tr>\n",
              "      <th>17</th>\n",
              "      <td>A1OATGH4DF0RF0</td>\n",
              "      <td>B007WTAJTO</td>\n",
              "      <td>Aaron F. Virginie</td>\n",
              "      <td>[0, 1]</td>\n",
              "      <td>class speed rating seamless full hd videothe s...</td>\n",
              "      <td>5.00</td>\n",
              "      <td>Get Fast Load Times</td>\n",
              "      <td>1372896000</td>\n",
              "      <td>2013-04-07</td>\n",
              "      <td>610</td>\n",
              "      <td>0</td>\n",
              "      <td>1</td>\n",
              "      <td>0.90</td>\n",
              "      <td>pos</td>\n",
              "    </tr>\n",
              "    <tr>\n",
              "      <th>18</th>\n",
              "      <td>A1V6CQACZ9IOLC</td>\n",
              "      <td>B007WTAJTO</td>\n",
              "      <td>Aaron Graves</td>\n",
              "      <td>[0, 0]</td>\n",
              "      <td>read write speed better samsung sd card previo...</td>\n",
              "      <td>5.00</td>\n",
              "      <td>Very good little Micro SD card</td>\n",
              "      <td>1398988800</td>\n",
              "      <td>2014-02-05</td>\n",
              "      <td>306</td>\n",
              "      <td>0</td>\n",
              "      <td>0</td>\n",
              "      <td>0.85</td>\n",
              "      <td>pos</td>\n",
              "    </tr>\n",
              "    <tr>\n",
              "      <th>19</th>\n",
              "      <td>A2ELBSIZ26GKM2</td>\n",
              "      <td>B007WTAJTO</td>\n",
              "      <td>Aaron</td>\n",
              "      <td>[0, 0]</td>\n",
              "      <td>work nl video stuttering like gb blah blah bla...</td>\n",
              "      <td>5.00</td>\n",
              "      <td>works</td>\n",
              "      <td>1389052800</td>\n",
              "      <td>2014-07-01</td>\n",
              "      <td>160</td>\n",
              "      <td>0</td>\n",
              "      <td>0</td>\n",
              "      <td>-0.34</td>\n",
              "      <td>neg</td>\n",
              "    </tr>\n",
              "  </tbody>\n",
              "</table>\n",
              "</div>\n",
              "      <button class=\"colab-df-convert\" onclick=\"convertToInteractive('df-82637bc2-30ac-4067-8089-15e6aa6ac247')\"\n",
              "              title=\"Convert this dataframe to an interactive table.\"\n",
              "              style=\"display:none;\">\n",
              "        \n",
              "  <svg xmlns=\"http://www.w3.org/2000/svg\" height=\"24px\"viewBox=\"0 0 24 24\"\n",
              "       width=\"24px\">\n",
              "    <path d=\"M0 0h24v24H0V0z\" fill=\"none\"/>\n",
              "    <path d=\"M18.56 5.44l.94 2.06.94-2.06 2.06-.94-2.06-.94-.94-2.06-.94 2.06-2.06.94zm-11 1L8.5 8.5l.94-2.06 2.06-.94-2.06-.94L8.5 2.5l-.94 2.06-2.06.94zm10 10l.94 2.06.94-2.06 2.06-.94-2.06-.94-.94-2.06-.94 2.06-2.06.94z\"/><path d=\"M17.41 7.96l-1.37-1.37c-.4-.4-.92-.59-1.43-.59-.52 0-1.04.2-1.43.59L10.3 9.45l-7.72 7.72c-.78.78-.78 2.05 0 2.83L4 21.41c.39.39.9.59 1.41.59.51 0 1.02-.2 1.41-.59l7.78-7.78 2.81-2.81c.8-.78.8-2.07 0-2.86zM5.41 20L4 18.59l7.72-7.72 1.47 1.35L5.41 20z\"/>\n",
              "  </svg>\n",
              "      </button>\n",
              "      \n",
              "  <style>\n",
              "    .colab-df-container {\n",
              "      display:flex;\n",
              "      flex-wrap:wrap;\n",
              "      gap: 12px;\n",
              "    }\n",
              "\n",
              "    .colab-df-convert {\n",
              "      background-color: #E8F0FE;\n",
              "      border: none;\n",
              "      border-radius: 50%;\n",
              "      cursor: pointer;\n",
              "      display: none;\n",
              "      fill: #1967D2;\n",
              "      height: 32px;\n",
              "      padding: 0 0 0 0;\n",
              "      width: 32px;\n",
              "    }\n",
              "\n",
              "    .colab-df-convert:hover {\n",
              "      background-color: #E2EBFA;\n",
              "      box-shadow: 0px 1px 2px rgba(60, 64, 67, 0.3), 0px 1px 3px 1px rgba(60, 64, 67, 0.15);\n",
              "      fill: #174EA6;\n",
              "    }\n",
              "\n",
              "    [theme=dark] .colab-df-convert {\n",
              "      background-color: #3B4455;\n",
              "      fill: #D2E3FC;\n",
              "    }\n",
              "\n",
              "    [theme=dark] .colab-df-convert:hover {\n",
              "      background-color: #434B5C;\n",
              "      box-shadow: 0px 1px 3px 1px rgba(0, 0, 0, 0.15);\n",
              "      filter: drop-shadow(0px 1px 2px rgba(0, 0, 0, 0.3));\n",
              "      fill: #FFFFFF;\n",
              "    }\n",
              "  </style>\n",
              "\n",
              "      <script>\n",
              "        const buttonEl =\n",
              "          document.querySelector('#df-82637bc2-30ac-4067-8089-15e6aa6ac247 button.colab-df-convert');\n",
              "        buttonEl.style.display =\n",
              "          google.colab.kernel.accessAllowed ? 'block' : 'none';\n",
              "\n",
              "        async function convertToInteractive(key) {\n",
              "          const element = document.querySelector('#df-82637bc2-30ac-4067-8089-15e6aa6ac247');\n",
              "          const dataTable =\n",
              "            await google.colab.kernel.invokeFunction('convertToInteractive',\n",
              "                                                     [key], {});\n",
              "          if (!dataTable) return;\n",
              "\n",
              "          const docLinkHtml = 'Like what you see? Visit the ' +\n",
              "            '<a target=\"_blank\" href=https://colab.research.google.com/notebooks/data_table.ipynb>data table notebook</a>'\n",
              "            + ' to learn more about interactive tables.';\n",
              "          element.innerHTML = '';\n",
              "          dataTable['output_type'] = 'display_data';\n",
              "          await google.colab.output.renderOutput(dataTable, element);\n",
              "          const docLink = document.createElement('div');\n",
              "          docLink.innerHTML = docLinkHtml;\n",
              "          element.appendChild(docLink);\n",
              "        }\n",
              "      </script>\n",
              "    </div>\n",
              "  </div>\n",
              "  "
            ],
            "text/plain": [
              "        reviewerID        asin                                      reviewerName helpful                                         reviewText  overall  \\\n",
              "0   A3SBTW3WS4IQSN  B007WTAJTO                                               NaN  [0, 0]                                              issue     4.00   \n",
              "1   A18K1ODH1I2MVB  B007WTAJTO                                              0mie  [0, 0]  purchased device worked advertised never much ...     5.00   \n",
              "2   A2FII3I2MBMUIA  B007WTAJTO                                               1K3  [0, 0]  work expected sprung higher capacity think mad...     4.00   \n",
              "3    A3H99DFEG68SR  B007WTAJTO                                               1m2  [0, 0]  think worked greathad diff bran gb card went s...     5.00   \n",
              "4   A375ZM4U047O79  B007WTAJTO                                      2&amp;1/2Men  [0, 0]  bought retail packaging arrived legit orange e...     5.00   \n",
              "5   A2IDCSC6NVONIZ  B007WTAJTO                                           2Cents!  [0, 0]  mini storage doesnt anything else supposed pur...     5.00   \n",
              "6   A26YHXZD5UFPVQ  B007WTAJTO                                        2K1Toaster  [0, 0]  phone never skip beat file transfer speedy cor...     5.00   \n",
              "7   A3CW0ZLUO5X2B1  B007WTAJTO  35-year Technology Consumer \"8-tracks to 802.11\"  [0, 0]  hard believe affordable digital become gb devi...     5.00   \n",
              "8   A2CYJO155QP33S  B007WTAJTO                                         4evryoung  [1, 1]  work htc rezound running short space gb sandis...     5.00   \n",
              "9   A2S7XG3ZC4VGOQ  B007WTAJTO                                          53rdcard  [0, 0]  galaxy super fast card totally happy happy sti...     5.00   \n",
              "10  A1RTQROTWR5NCB  B007WTAJTO                                         808TREX50  [0, 0]  like sd card take music video downloads person...     5.00   \n",
              "11  A2Q3ICGWZLY3JJ  B007WTAJTO                                             98020  [0, 0]  work file writes bit slower expected usb reade...     3.00   \n",
              "12   AN2VFTXYW1SZU  B007WTAJTO                                            9z4cda  [0, 0]                          name speaks go sandisk go     5.00   \n",
              "13   AVHN134ADVP4R  B007WTAJTO                              A4Q96 \"Gadget Lover\"  [0, 0]  solid sdhc card fast reading writing fast reco...     5.00   \n",
              "14   A3EA7KGYC8LB0  B007WTAJTO                                     Aaron \"Aaron\"  [0, 0]  heard card write speed insufficient however us...     5.00   \n",
              "15  A29RI184HRX66H  B007WTAJTO                                     Aaron \"Aaron\"  [0, 0]  bought use go pro hero black edition requires ...     5.00   \n",
              "16  A2G9ZHVA6IOGBY  B007WTAJTO                                     Aaron Alvarez  [0, 0]  got gb one filled kept getting insufficient di...     5.00   \n",
              "17  A1OATGH4DF0RF0  B007WTAJTO                                 Aaron F. Virginie  [0, 1]  class speed rating seamless full hd videothe s...     5.00   \n",
              "18  A1V6CQACZ9IOLC  B007WTAJTO                                      Aaron Graves  [0, 0]  read write speed better samsung sd card previo...     5.00   \n",
              "19  A2ELBSIZ26GKM2  B007WTAJTO                                             Aaron  [0, 0]  work nl video stuttering like gb blah blah bla...     5.00   \n",
              "\n",
              "                                              summary  unixReviewTime  reviewTime  day_diff  helpful_yes  total_vote  polarity_score sentiment_label  \n",
              "0                                          Four Stars      1406073600  2014-07-23       138            0           0            0.00             neg  \n",
              "1                                       MOAR SPACE!!!      1382659200  2013-10-25       409            0           0            0.00             neg  \n",
              "2                           nothing to really say....      1356220800  2012-12-23       715            0           0            0.40             pos  \n",
              "3              Great buy at this price!!!  *** UPDATE      1384992000  2013-11-21       382            0           0            0.65             pos  \n",
              "4                                    best deal around      1373673600  2013-07-13       513            0           0            0.86             pos  \n",
              "5                         Not a lot to really be said      1367193600  2013-04-29       588            0           0            0.00             neg  \n",
              "6                                          Works well      1382140800  2013-10-19       415            0           0            0.90             pos  \n",
              "7   32 GB for less than two sawbucks...what's not ...      1404950400  2014-10-07        62            0           0            0.82             pos  \n",
              "8                                       Loads of room      1395619200  2014-03-24       259            1           1            0.00             neg  \n",
              "9                                         works great      1381449600  2013-11-10       393            0           0            0.92             pos  \n",
              "10                                 32GB MicroSD Card.      1368230400  2013-11-05       398            0           0            0.94             pos  \n",
              "11              It works, but not as fast as expected      1384905600  2013-11-20       383            0           0            0.00             neg  \n",
              "12                               A RENOUND NAME BRAND      1404432000  2014-04-07       245            0           0            0.00             neg  \n",
              "13                                    Great SDHC card      1384992000  2013-11-21       382            0           0            0.82             pos  \n",
              "14                  Use it for my GoPro Hero 3+ Black      1392595200  2014-02-17       294            0           0            0.31             pos  \n",
              "15                    Awesome price, great brand name      1357257600  2013-04-01       616            0           0            0.72             pos  \n",
              "16                                  great price. fast      1393718400  2014-02-03       308            0           0            0.85             pos  \n",
              "17                                Get Fast Load Times      1372896000  2013-04-07       610            0           1            0.90             pos  \n",
              "18                     Very good little Micro SD card      1398988800  2014-02-05       306            0           0            0.85             pos  \n",
              "19                                              works      1389052800  2014-07-01       160            0           0           -0.34             neg  "
            ]
          },
          "execution_count": 31,
          "metadata": {},
          "output_type": "execute_result"
        }
      ],
      "source": [
        "#Now let's do the same for all the data and add a variable called sentiment_label to the dataset\n",
        "df[\"sentiment_label\"] = df[\"reviewText\"].apply(lambda x: \"pos\" if sia.polarity_scores(x)[\"compound\"] > 0 else \"neg\")\n",
        "df.head(20)"
      ]
    },
    {
      "cell_type": "code",
      "execution_count": null,
      "metadata": {
        "colab": {
          "base_uri": "https://localhost:8080/"
        },
        "id": "fykvKcBdEAV-",
        "outputId": "26ebf60e-5c39-43ce-9eaf-968bbb69c024"
      },
      "outputs": [
        {
          "data": {
            "text/plain": [
              "pos    3946\n",
              "neg     969\n",
              "Name: sentiment_label, dtype: int64"
            ]
          },
          "execution_count": 32,
          "metadata": {},
          "output_type": "execute_result"
        }
      ],
      "source": [
        "#do we have unbalanced data problem let's look at a class distribution\n",
        "df[\"sentiment_label\"].value_counts()"
      ]
    },
    {
      "cell_type": "code",
      "execution_count": null,
      "metadata": {
        "colab": {
          "base_uri": "https://localhost:8080/"
        },
        "id": "GIWvJc-NEF7x",
        "outputId": "516d016e-316c-4e6f-9bcb-d6a8efc68a46"
      },
      "outputs": [
        {
          "data": {
            "text/plain": [
              "sentiment_label\n",
              "neg   4.09\n",
              "pos   4.71\n",
              "Name: overall, dtype: float64"
            ]
          },
          "execution_count": 33,
          "metadata": {},
          "output_type": "execute_result"
        }
      ],
      "source": [
        "#Another question I'm wondering is, is there any difference between the neg-pos labels in terms of the given points?\n",
        "df.groupby(\"sentiment_label\")[\"overall\"].mean()"
      ]
    },
    {
      "cell_type": "code",
      "execution_count": null,
      "metadata": {
        "id": "QsbCc-whEJmB"
      },
      "outputs": [],
      "source": [
        "# Target Encoding\n",
        "df[\"sentiment_label\"] = LabelEncoder().fit_transform(df[\"sentiment_label\"])\n",
        "\n",
        "X = df[\"reviewText\"]\n",
        "y = df[\"sentiment_label\"]"
      ]
    },
    {
      "cell_type": "code",
      "execution_count": null,
      "metadata": {
        "colab": {
          "base_uri": "https://localhost:8080/"
        },
        "id": "wd9enYwHEOBj",
        "outputId": "9a20ff6a-4618-4fad-81c3-208761519e16"
      },
      "outputs": [
        {
          "data": {
            "text/plain": [
              "[WordList(['My', 'son', 'and']),\n",
              " WordList(['son', 'and', 'family']),\n",
              " WordList(['and', 'family', 'received']),\n",
              " WordList(['family', 'received', 'the']),\n",
              " WordList(['received', 'the', 'DVD']),\n",
              " WordList(['the', 'DVD', 'player']),\n",
              " WordList(['DVD', 'player', 'and']),\n",
              " WordList(['player', 'and', 'they']),\n",
              " WordList(['and', 'they', 'are']),\n",
              " WordList(['they', 'are', 'delighted']),\n",
              " WordList(['are', 'delighted', 'Now']),\n",
              " WordList(['delighted', 'Now', 'my']),\n",
              " WordList(['Now', 'my', 'little']),\n",
              " WordList(['my', 'little', 'grandson']),\n",
              " WordList(['little', 'grandson', 'can']),\n",
              " WordList(['grandson', 'can', 'play']),\n",
              " WordList(['can', 'play', 'the']),\n",
              " WordList(['play', 'the', 'Fireman']),\n",
              " WordList(['the', 'Fireman', 'Sam']),\n",
              " WordList(['Fireman', 'Sam', 'dvd']),\n",
              " WordList(['Sam', 'dvd', \"'s\"]),\n",
              " WordList(['dvd', \"'s\", 'I']),\n",
              " WordList([\"'s\", 'I', 'bought']),\n",
              " WordList(['I', 'bought', 'him']),\n",
              " WordList(['bought', 'him', 'from']),\n",
              " WordList(['him', 'from', 'the']),\n",
              " WordList(['from', 'the', 'UK']),\n",
              " WordList(['the', 'UK', 'not']),\n",
              " WordList(['UK', 'not', 'thinking']),\n",
              " WordList(['not', 'thinking', 'about']),\n",
              " WordList(['thinking', 'about', 'different']),\n",
              " WordList(['about', 'different', 'regions']),\n",
              " WordList(['different', 'regions', 'You']),\n",
              " WordList(['regions', 'You', 'have']),\n",
              " WordList(['You', 'have', 'made']),\n",
              " WordList(['have', 'made', 'a']),\n",
              " WordList(['made', 'a', 'little']),\n",
              " WordList(['a', 'little', 'three']),\n",
              " WordList(['little', 'three', 'year']),\n",
              " WordList(['three', 'year', 'old']),\n",
              " WordList(['year', 'old', 'very']),\n",
              " WordList(['old', 'very', 'happy']),\n",
              " WordList(['very', 'happy', 'as']),\n",
              " WordList(['happy', 'as', 'well']),\n",
              " WordList(['as', 'well', 'as']),\n",
              " WordList(['well', 'as', 'his']),\n",
              " WordList(['as', 'his', 'Grandpa']),\n",
              " WordList(['his', 'Grandpa', 'My']),\n",
              " WordList(['Grandpa', 'My', 'wishes']),\n",
              " WordList(['My', 'wishes', 'for']),\n",
              " WordList(['wishes', 'for', 'great']),\n",
              " WordList(['for', 'great', 'sucess']),\n",
              " WordList(['great', 'sucess', 'with']),\n",
              " WordList(['sucess', 'with', 'your']),\n",
              " WordList(['with', 'your', 'business'])]"
            ]
          },
          "execution_count": 35,
          "metadata": {},
          "output_type": "execute_result"
        }
      ],
      "source": [
        "# ngram of my own comment for trail\n",
        "a = \"\"\"My son and family received the DVD player and they are delighted. Now my little grandson can play the Fireman Sam dvd's I bought him from the UK, not thinking about different regions. You have made a little three year old very happy as well as his Grandpa. My wishes for great sucess with your business.\"\"\"\n",
        "\n",
        "TextBlob(a).ngrams(3)"
      ]
    },
    {
      "cell_type": "code",
      "execution_count": null,
      "metadata": {
        "id": "MByCQBZ8FCj2"
      },
      "outputs": [],
      "source": [
        "# Count Vectors\n",
        "\n",
        "from sklearn.feature_extraction.text import CountVectorizer\n",
        "\n",
        "corpus = ['This is the first document.',\n",
        "          'This document is the second document.',\n",
        "          'And this is the third one.',\n",
        "          'Is this the first document?']"
      ]
    },
    {
      "cell_type": "code",
      "execution_count": null,
      "metadata": {
        "colab": {
          "base_uri": "https://localhost:8080/"
        },
        "id": "0AL6w5EsFGgm",
        "outputId": "e7439f45-45a4-4a5a-966d-3453acac95e4"
      },
      "outputs": [
        {
          "data": {
            "text/plain": [
              "array([[0, 1, 1, 1, 0, 0, 1, 0, 1],\n",
              "       [0, 2, 0, 1, 0, 1, 1, 0, 1],\n",
              "       [1, 0, 0, 1, 1, 0, 1, 1, 1],\n",
              "       [0, 1, 1, 1, 0, 0, 1, 0, 1]])"
            ]
          },
          "execution_count": 37,
          "metadata": {},
          "output_type": "execute_result"
        }
      ],
      "source": [
        "# word frequency\n",
        "vectorizer = CountVectorizer()\n",
        "X_c = vectorizer.fit_transform(corpus)\n",
        "vectorizer.get_feature_names()\n",
        "X_c.toarray()"
      ]
    },
    {
      "cell_type": "code",
      "execution_count": null,
      "metadata": {
        "colab": {
          "base_uri": "https://localhost:8080/"
        },
        "id": "qTEfYK7-FYdV",
        "outputId": "b567ad07-44a9-4089-f45d-1634748c20a5"
      },
      "outputs": [
        {
          "data": {
            "text/plain": [
              "array([[0, 0, 1, 1, 0, 0, 1, 0, 0, 0, 0, 1, 0],\n",
              "       [0, 1, 0, 1, 0, 1, 0, 1, 0, 0, 1, 0, 0],\n",
              "       [1, 0, 0, 1, 0, 0, 0, 0, 1, 1, 0, 1, 0],\n",
              "       [0, 0, 1, 0, 1, 0, 1, 0, 0, 0, 0, 0, 1]])"
            ]
          },
          "execution_count": 38,
          "metadata": {},
          "output_type": "execute_result"
        }
      ],
      "source": [
        "# n-gram frequency\n",
        "vectorizer2 = CountVectorizer(analyzer='word', ngram_range=(2, 2))\n",
        "X_n = vectorizer2.fit_transform(corpus)\n",
        "vectorizer2.get_feature_names()\n",
        "X_n.toarray()"
      ]
    },
    {
      "cell_type": "code",
      "execution_count": null,
      "metadata": {
        "colab": {
          "base_uri": "https://localhost:8080/"
        },
        "id": "UpNRg6a0FgsB",
        "outputId": "3cab3ca2-ac14-4ebf-e1cc-d07d4969970b"
      },
      "outputs": [
        {
          "data": {
            "text/plain": [
              "array([[0, 0, 0, ..., 0, 0, 0],\n",
              "       [0, 0, 0, ..., 0, 0, 0],\n",
              "       [0, 0, 0, ..., 0, 0, 0],\n",
              "       [0, 0, 0, ..., 0, 0, 0],\n",
              "       [0, 0, 0, ..., 0, 0, 0]])"
            ]
          },
          "execution_count": 39,
          "metadata": {},
          "output_type": "execute_result"
        }
      ],
      "source": [
        "# Application of the frequency\n",
        "vectorizer = CountVectorizer()\n",
        "X_count = vectorizer.fit_transform(X)\n",
        "\n",
        "vectorizer.get_feature_names()[10:15]\n",
        "X_count.toarray()[10:15]"
      ]
    },
    {
      "cell_type": "markdown",
      "metadata": {
        "id": "J7KaP9-jF7qe"
      },
      "source": [
        "TF-IDF\n",
        "\n",
        "\n",
        "TF-IDF stands for term frequency-inverse document frequency and it is a measure, used in the fields of information retrieval (IR) and machine learning, that can quantify the importance or relevance of string representations (words, phrases, lemmas, etc)"
      ]
    },
    {
      "cell_type": "code",
      "execution_count": null,
      "metadata": {
        "colab": {
          "base_uri": "https://localhost:8080/"
        },
        "id": "fzyn3s8CGHeA",
        "outputId": "d0048b5e-bb87-4f4e-eb90-78c8d094bdeb"
      },
      "outputs": [
        {
          "data": {
            "text/plain": [
              "array([[0.        , 0.46979139, 0.58028582, 0.38408524, 0.        ,\n",
              "        0.        , 0.38408524, 0.        , 0.38408524],\n",
              "       [0.        , 0.6876236 , 0.        , 0.28108867, 0.        ,\n",
              "        0.53864762, 0.28108867, 0.        , 0.28108867],\n",
              "       [0.51184851, 0.        , 0.        , 0.26710379, 0.51184851,\n",
              "        0.        , 0.26710379, 0.51184851, 0.26710379],\n",
              "       [0.        , 0.46979139, 0.58028582, 0.38408524, 0.        ,\n",
              "        0.        , 0.38408524, 0.        , 0.38408524]])"
            ]
          },
          "execution_count": 40,
          "metadata": {},
          "output_type": "execute_result"
        }
      ],
      "source": [
        "from sklearn.feature_extraction.text import TfidfVectorizer\n",
        "vectorizer = TfidfVectorizer(analyzer='word')\n",
        "X_w = vectorizer.fit_transform(corpus)\n",
        "vectorizer.get_feature_names()\n",
        "X_w.toarray()"
      ]
    },
    {
      "cell_type": "code",
      "execution_count": null,
      "metadata": {
        "colab": {
          "base_uri": "https://localhost:8080/"
        },
        "id": "8VkPCmFPGKir",
        "outputId": "55a4f9ee-ad8b-429f-be6c-3ca658388ddd"
      },
      "outputs": [
        {
          "data": {
            "text/plain": [
              "array([[0.        , 0.        , 0.        , 0.        , 0.37102749,\n",
              "        0.30037873, 0.47060133, 0.        , 0.        , 0.        ,\n",
              "        0.        , 0.        , 0.37102749, 0.37102749, 0.        ,\n",
              "        0.        , 0.        , 0.        , 0.        , 0.        ,\n",
              "        0.        , 0.37102749, 0.37102749, 0.        , 0.        ],\n",
              "       [0.        , 0.        , 0.34488069, 0.34488069, 0.        ,\n",
              "        0.22013288, 0.        , 0.34488069, 0.        , 0.        ,\n",
              "        0.        , 0.34488069, 0.        , 0.        , 0.34488069,\n",
              "        0.34488069, 0.        , 0.        , 0.        , 0.34488069,\n",
              "        0.34488069, 0.        , 0.        , 0.        , 0.        ],\n",
              "       [0.36153669, 0.36153669, 0.        , 0.        , 0.        ,\n",
              "        0.23076418, 0.        , 0.        , 0.36153669, 0.        ,\n",
              "        0.        , 0.        , 0.        , 0.        , 0.        ,\n",
              "        0.        , 0.36153669, 0.36153669, 0.36153669, 0.        ,\n",
              "        0.        , 0.28503968, 0.28503968, 0.        , 0.        ],\n",
              "       [0.        , 0.        , 0.        , 0.        , 0.32555709,\n",
              "        0.        , 0.        , 0.        , 0.        , 0.41292788,\n",
              "        0.41292788, 0.        , 0.32555709, 0.32555709, 0.        ,\n",
              "        0.        , 0.        , 0.        , 0.        , 0.        ,\n",
              "        0.        , 0.        , 0.        , 0.41292788, 0.41292788]])"
            ]
          },
          "execution_count": 41,
          "metadata": {},
          "output_type": "execute_result"
        }
      ],
      "source": [
        "from sklearn.feature_extraction.text import TfidfVectorizer\n",
        "vectorizer = TfidfVectorizer(ngram_range=(2, 3))\n",
        "X_n = vectorizer.fit_transform(corpus)\n",
        "vectorizer.get_feature_names()\n",
        "X_n.toarray()"
      ]
    },
    {
      "cell_type": "code",
      "execution_count": null,
      "metadata": {
        "id": "WnmN5SBLGNvj"
      },
      "outputs": [],
      "source": [
        "# Application\n",
        "tf_idf_word_vectorizer = TfidfVectorizer()\n",
        "X_tf_idf_word = tf_idf_word_vectorizer.fit_transform(X)"
      ]
    },
    {
      "cell_type": "markdown",
      "metadata": {
        "id": "wDxr_ImQGjrp"
      },
      "source": [
        "5. Modeling"
      ]
    },
    {
      "cell_type": "code",
      "execution_count": null,
      "metadata": {
        "colab": {
          "base_uri": "https://localhost:8080/"
        },
        "id": "gMuWyHgEGlUP",
        "outputId": "0be33c88-6acc-4b9c-c992-9a3f2cf0d476"
      },
      "outputs": [
        {
          "data": {
            "text/plain": [
              "array([1])"
            ]
          },
          "execution_count": 43,
          "metadata": {},
          "output_type": "execute_result"
        }
      ],
      "source": [
        "# Logistic Regression\n",
        "\n",
        "log_model = LogisticRegression().fit(X_tf_idf_word, y)\n",
        "\n",
        "cross_val_score(log_model,\n",
        "                X_tf_idf_word,\n",
        "                y, scoring=\"accuracy\",\n",
        "                cv=5).mean()\n",
        "\n",
        "yeni_yorum = pd.Series(\"this product is great\")\n",
        "yeni_yorum = pd.Series(\"look at that shit very bad\")\n",
        "yeni_yorum = pd.Series(\"it was good but I am sure that it fits me\")\n",
        "\n",
        "yeni_yorum = CountVectorizer().fit(X).transform(yeni_yorum)\n",
        "log_model.predict(yeni_yorum)"
      ]
    },
    {
      "cell_type": "code",
      "execution_count": null,
      "metadata": {
        "id": "Jpbb0AwbQrfM"
      },
      "outputs": [],
      "source": []
    },
    {
      "cell_type": "code",
      "execution_count": null,
      "metadata": {
        "colab": {
          "base_uri": "https://localhost:8080/"
        },
        "id": "Is-_PpUpGobx",
        "outputId": "2f199b41-efe1-4926-f9e6-73054ab2ef6b"
      },
      "outputs": [
        {
          "data": {
            "text/plain": [
              "0    wouldnt trade anything need extra space helpfu...\n",
              "dtype: object"
            ]
          },
          "execution_count": 44,
          "metadata": {},
          "output_type": "execute_result"
        }
      ],
      "source": [
        "#Can we ask the model to review the original comments?\n",
        "random_review = pd.Series(df[\"reviewText\"].sample(1).values)\n",
        "random_review"
      ]
    },
    {
      "cell_type": "code",
      "execution_count": null,
      "metadata": {
        "colab": {
          "base_uri": "https://localhost:8080/"
        },
        "id": "CIgN7DnuG5zf",
        "outputId": "f7453359-1dfe-4821-e74b-f5a410118dfc"
      },
      "outputs": [
        {
          "data": {
            "text/plain": [
              "array([1])"
            ]
          },
          "execution_count": 45,
          "metadata": {},
          "output_type": "execute_result"
        }
      ],
      "source": [
        "yeni_yorum = CountVectorizer().fit(X).transform(random_review)\n",
        "log_model.predict(yeni_yorum)"
      ]
    },
    {
      "cell_type": "markdown",
      "metadata": {
        "id": "6NrrnxcsHQ55"
      },
      "source": [
        "Random Forests"
      ]
    },
    {
      "cell_type": "code",
      "execution_count": null,
      "metadata": {
        "colab": {
          "base_uri": "https://localhost:8080/"
        },
        "id": "uFwaPTqwHTOK",
        "outputId": "aa1d6c93-c5a9-4c3a-90f0-95584d166b69"
      },
      "outputs": [
        {
          "data": {
            "text/plain": [
              "0.8331637843336723"
            ]
          },
          "execution_count": 46,
          "metadata": {},
          "output_type": "execute_result"
        }
      ],
      "source": [
        "# Count Vectors\n",
        "rf_model = RandomForestClassifier().fit(X_count, y)\n",
        "cross_val_score(rf_model, X_count, y, cv=5, n_jobs=-1).mean()"
      ]
    },
    {
      "cell_type": "code",
      "execution_count": null,
      "metadata": {
        "colab": {
          "base_uri": "https://localhost:8080/"
        },
        "id": "fUgxpHi8HVy4",
        "outputId": "8383763a-31d5-4a70-d684-ab4088b04f1a"
      },
      "outputs": [
        {
          "data": {
            "text/plain": [
              "0.8213631739572737"
            ]
          },
          "execution_count": 47,
          "metadata": {},
          "output_type": "execute_result"
        }
      ],
      "source": [
        "#TF-IDF Word-Level\n",
        "rf_model = RandomForestClassifier().fit(X_tf_idf_word, y)\n",
        "cross_val_score(rf_model, X_tf_idf_word, y, cv=5, n_jobs=-1).mean()"
      ]
    },
    {
      "cell_type": "code",
      "execution_count": null,
      "metadata": {
        "id": "OroDx0YfHc1e"
      },
      "outputs": [],
      "source": [
        "# TF-IDF N-GRAM\n",
        "#rf_model = RandomForestClassifier().fit(X_tf_idf_ngram, y)\n",
        "#cross_val_score(rf_model, X_tf_idf_ngram, y, cv=5, n_jobs=-1).mean()"
      ]
    },
    {
      "cell_type": "code",
      "execution_count": null,
      "metadata": {
        "colab": {
          "background_save": true,
          "base_uri": "https://localhost:8080/"
        },
        "id": "M2IHuVdjHk8f",
        "outputId": "ae7e0b90-d895-4687-f016-0628b0fe9b7e"
      },
      "outputs": [
        {
          "name": "stdout",
          "output_type": "stream",
          "text": [
            "Fitting 5 folds for each of 108 candidates, totalling 540 fits\n"
          ]
        }
      ],
      "source": [
        "#Hyperparameter Optimization\n",
        "\n",
        "rf_model =RandomForestClassifier(random_state=17)\n",
        "\n",
        "rf_params = {\"max_depth\": [5, 8, None],\n",
        "             \"max_features\": [5, 7, \"auto\"],\n",
        "             \"min_samples_split\": [2, 5, 8, 20],\n",
        "             \"n_estimators\": [100, 200, 500]}\n",
        "\n",
        "rf_best_grid = GridSearchCV(rf_model,\n",
        "                            rf_params,\n",
        "                            cv=5,\n",
        "                            n_jobs=-1,\n",
        "                            verbose=True).fit(X_count, y)\n",
        "\n",
        "rf_best_grid.best_params_\n",
        "\n",
        "rf_final = rf_model.set_params(**rf_best_grid.best_params_, random_state=17).fit(X_count, y)\n",
        "\n",
        "cv_results = cross_validate(rf_final, X_count, y, cv=3, scoring=[\"accuracy\", \"f1\", \"roc_auc\"])"
      ]
    },
    {
      "cell_type": "code",
      "execution_count": null,
      "metadata": {
        "colab": {
          "background_save": true
        },
        "id": "f62Hd9zzHqdQ",
        "outputId": "a17d61a1-97d6-4ca9-917d-c521c285071c"
      },
      "outputs": [
        {
          "data": {
            "text/plain": [
              "{'max_depth': None,\n",
              " 'max_features': 'auto',\n",
              " 'min_samples_split': 2,\n",
              " 'n_estimators': 100}"
            ]
          },
          "execution_count": 50,
          "metadata": {},
          "output_type": "execute_result"
        }
      ],
      "source": [
        "rf_best_grid.best_params_"
      ]
    },
    {
      "cell_type": "code",
      "execution_count": null,
      "metadata": {
        "id": "NWgcAyXKG_hL"
      },
      "outputs": [],
      "source": [
        "rf_final = rf_model.set_params(**rf_best_grid.best_params_, random_state=17).fit(X_count, y)"
      ]
    },
    {
      "cell_type": "code",
      "execution_count": null,
      "metadata": {
        "id": "5Jo5dYBlGrTz"
      },
      "outputs": [],
      "source": [
        "cv_results = cross_validate(rf_final, X_count, y, cv=3, scoring=[\"accuracy\", \"f1\", \"roc_auc\"])\n",
        "df2= pd.DataFrame(cv_results)\n",
        "print(df2)"
      ]
    },
    {
      "cell_type": "code",
      "execution_count": null,
      "metadata": {
        "id": "nvBJc8n_gC7D"
      },
      "outputs": [],
      "source": []
    },
    {
      "cell_type": "code",
      "execution_count": null,
      "metadata": {
        "id": "jx8AhnbYfcLs"
      },
      "outputs": [],
      "source": []
    },
    {
      "cell_type": "code",
      "execution_count": null,
      "metadata": {
        "id": "5obIdVflfV8-"
      },
      "outputs": [],
      "source": []
    },
    {
      "cell_type": "code",
      "execution_count": null,
      "metadata": {
        "id": "wX0dU1KQfHGy"
      },
      "outputs": [],
      "source": []
    }
  ],
  "metadata": {
    "accelerator": "GPU",
    "colab": {
      "provenance": [],
      "include_colab_link": true
    },
    "gpuClass": "standard",
    "kernelspec": {
      "display_name": "Python 3",
      "name": "python3"
    },
    "language_info": {
      "name": "python"
    }
  },
  "nbformat": 4,
  "nbformat_minor": 0
}